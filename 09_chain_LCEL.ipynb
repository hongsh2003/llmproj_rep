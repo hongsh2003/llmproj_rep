{
 "cells": [
  {
   "cell_type": "markdown",
   "id": "551045d7",
   "metadata": {},
   "source": [
    "LCEL (LangChainExpressionLanguage)\n",
    "\n",
    "프롬프트 > LLM > chain input > output > prompt\n",
    "\n",
    "Runnable 인터페이스 > 랭체인에서 구현하고 있음"
   ]
  },
  {
   "cell_type": "markdown",
   "id": "23f0b897",
   "metadata": {},
   "source": [
    "# SequentialChain"
   ]
  },
  {
   "cell_type": "code",
   "execution_count": 1,
   "id": "4daccfdc",
   "metadata": {},
   "outputs": [
    {
     "data": {
      "text/plain": [
       "ChatOpenAI(client=<openai.resources.chat.completions.completions.Completions object at 0x000001DE36460BC0>, async_client=<openai.resources.chat.completions.completions.AsyncCompletions object at 0x000001DE36200BC0>, root_client=<openai.OpenAI object at 0x000001DE347EF6E0>, root_async_client=<openai.AsyncOpenAI object at 0x000001DE35F93350>, model_name='gpt-4o-mini', model_kwargs={}, openai_api_key=SecretStr('**********'))"
      ]
     },
     "execution_count": 1,
     "metadata": {},
     "output_type": "execute_result"
    }
   ],
   "source": [
    "from langchain_openai import ChatOpenAI\n",
    "\n",
    "llm = ChatOpenAI(model='gpt-4o-mini')\n",
    "llm"
   ]
  },
  {
   "cell_type": "code",
   "execution_count": 2,
   "id": "24308ae9",
   "metadata": {},
   "outputs": [
    {
     "name": "stderr",
     "output_type": "stream",
     "text": [
      "C:\\Users\\Admin\\AppData\\Local\\Temp\\ipykernel_17720\\3859938958.py:6: LangChainDeprecationWarning: The class `LLMChain` was deprecated in LangChain 0.1.17 and will be removed in 1.0. Use :meth:`~RunnableSequence, e.g., `prompt | llm`` instead.\n",
      "  chain = LLMChain(llm=llm,prompt=template)\n"
     ]
    },
    {
     "data": {
      "text/plain": [
       "LLMChain(verbose=False, prompt=PromptTemplate(input_variables=['city'], input_types={}, partial_variables={}, template='{city}의 랜드마크는 어디인가요?'), llm=ChatOpenAI(client=<openai.resources.chat.completions.completions.Completions object at 0x000001DE36460BC0>, async_client=<openai.resources.chat.completions.completions.AsyncCompletions object at 0x000001DE36200BC0>, root_client=<openai.OpenAI object at 0x000001DE347EF6E0>, root_async_client=<openai.AsyncOpenAI object at 0x000001DE35F93350>, model_name='gpt-4o-mini', model_kwargs={}, openai_api_key=SecretStr('**********')), output_parser=StrOutputParser(), llm_kwargs={})"
      ]
     },
     "execution_count": 2,
     "metadata": {},
     "output_type": "execute_result"
    }
   ],
   "source": [
    "from langchain.prompts import PromptTemplate\n",
    "from langchain.chains import LLMChain\n",
    "\n",
    "template = PromptTemplate.from_template('{city}의 랜드마크는 어디인가요?')\n",
    "\n",
    "chain = LLMChain(llm=llm,prompt=template)\n",
    "chain"
   ]
  },
  {
   "cell_type": "code",
   "execution_count": 3,
   "id": "f515d4c1",
   "metadata": {},
   "outputs": [
    {
     "data": {
      "text/plain": [
       "{'city': '파리',\n",
       " 'text': '파리의 랜드마크로는 여러 유명한 장소가 있습니다. 그 중에서 가장 잘 알려진 몇 가지를 소개합니다:\\n\\n1. **에펠탑 (Tour Eiffel)** - 파리의 상징적인 건축물로, 도시 전경을 감상할 수 있는 인기 있는 관광 명소입니다.\\n\\n2. **루브르 박물관 (Musée du Louvre)** - 세계에서 가장 큰 미술관 중 하나로, 많은 유명한 예술 작품들이 소장되어 있습니다. 특히 모나리자와 비너스 상이 유명합니다.\\n\\n3. **샹젤리제 거리 (Avenue des Champs-Élysées)** - 파리에서 가장 유명한 거리 중 하나로, 다양한 상점과 카페가 즐비해 있습니다. 개선문과 연결되어 있습니다.\\n\\n4. **개선문 (Arc de Triomphe)** - 프랑스의 군사적 업적을 기념하기 위해 세운 기념물로, 파리의 주요 교차로에 위치해 있습니다.\\n\\n5. **몽마르트 언덕 (Montmartre)** - 예술가들이 많이 활동했던 지역으로, 사크레쾨르 대성당이 유명합니다.\\n\\n6. **셰익스피어 앤드 컴퍼니 (Shakespeare and Company)** - 유명한 영어 서점으로, 많은 작가들이 방문한 장소입니다.\\n\\n7. **노틀담 대성당 (Notre-Dame de Paris)** - 고딕 건축의 걸작으로, 현재 복원 중입니다.\\n\\n이 외에도 파리에는 수많은 아름다운 장소와 랜드마크가 있습니다.'}"
      ]
     },
     "execution_count": 3,
     "metadata": {},
     "output_type": "execute_result"
    }
   ],
   "source": [
    "chain.invoke({'city': '파리'})"
   ]
  },
  {
   "cell_type": "markdown",
   "id": "372cae12",
   "metadata": {},
   "source": [
    "# LCEL 파이프라인 구성"
   ]
  },
  {
   "cell_type": "code",
   "execution_count": 4,
   "id": "1d10a655",
   "metadata": {},
   "outputs": [
    {
     "data": {
      "text/plain": [
       "PromptTemplate(input_variables=['city'], input_types={}, partial_variables={}, template='{city}의 랜드마크는 어디인가요?')\n",
       "| ChatOpenAI(client=<openai.resources.chat.completions.completions.Completions object at 0x000001DE36460BC0>, async_client=<openai.resources.chat.completions.completions.AsyncCompletions object at 0x000001DE36200BC0>, root_client=<openai.OpenAI object at 0x000001DE347EF6E0>, root_async_client=<openai.AsyncOpenAI object at 0x000001DE35F93350>, model_name='gpt-4o-mini', model_kwargs={}, openai_api_key=SecretStr('**********'))"
      ]
     },
     "execution_count": 4,
     "metadata": {},
     "output_type": "execute_result"
    }
   ],
   "source": [
    "chain_lcel = template | llm\n",
    "chain_lcel"
   ]
  },
  {
   "cell_type": "code",
   "execution_count": 5,
   "id": "0339f3c5",
   "metadata": {},
   "outputs": [
    {
     "data": {
      "text/plain": [
       "AIMessage(content=\"파리의 대표적인 랜드마크로는 다음과 같은 장소들이 있습니다:\\n\\n1. **에펠탑 (Tour Eiffel)** - 파리의 상징적인 철제 탑으로, 1889년에 건설되었습니다.\\n2. **루브르 박물관 (Musée du Louvre)** - 세계에서 가장 큰 예술 박물관 중 하나로, '모나리자'와 같은 유명한 작품들이 전시되어 있습니다.\\n3. **노트르담 대성당 (Notre-Dame de Paris)** - 고딕 양식의 대성당으로, 파리의 중심부에 위치하고 있습니다.\\n4. **몽마르트르 언덕 (Montmartre)** - 예술가들이 많이 모였던 지역으로, 사크레쾨르 대성당이 유명합니다.\\n5. **샹젤리제 거리 (Champs-Élysées)** - 비즈니스와 쇼핑의 중심지로, 개선문과 연결되어 있습니다.\\n6. **개선문 (Arc de Triomphe)** - 나폴레옹의 전투 승리를 기리기 위해 세운 기념비입니다.\\n7. **오르세이 미술관 (Musée d'Orsay)** - 인상파 작품이 주로 전시되는 미술관입니다.\\n8. **팔레 루아얄 (Palais-Royal)** - 아름다운 정원과 역사적인 건물들로 유명한 공간입니다.\\n\\n이 외에도 파리에는 많은 아름다운 장소와 랜드마크가 있습니다.\", additional_kwargs={'refusal': None}, response_metadata={'token_usage': {'completion_tokens': 332, 'prompt_tokens': 19, 'total_tokens': 351, 'completion_tokens_details': {'accepted_prediction_tokens': 0, 'audio_tokens': 0, 'reasoning_tokens': 0, 'rejected_prediction_tokens': 0}, 'prompt_tokens_details': {'audio_tokens': 0, 'cached_tokens': 0}}, 'model_name': 'gpt-4o-mini-2024-07-18', 'system_fingerprint': 'fp_8bda4d3a2c', 'id': 'chatcmpl-CDN20n8RCFVqoBZByd6nLGx6jpmna', 'service_tier': 'default', 'finish_reason': 'stop', 'logprobs': None}, id='run--7cd3a0dc-432b-4bf6-b1cc-8eb92a70598b-0', usage_metadata={'input_tokens': 19, 'output_tokens': 332, 'total_tokens': 351, 'input_token_details': {'audio': 0, 'cache_read': 0}, 'output_token_details': {'audio': 0, 'reasoning': 0}})"
      ]
     },
     "execution_count": 5,
     "metadata": {},
     "output_type": "execute_result"
    }
   ],
   "source": [
    "chain_lcel.invoke({'city': '파리'})"
   ]
  },
  {
   "cell_type": "markdown",
   "id": "40e14960",
   "metadata": {},
   "source": [
    "# Sequential chain의 구성"
   ]
  },
  {
   "cell_type": "code",
   "execution_count": 6,
   "id": "4fb797dd",
   "metadata": {},
   "outputs": [
    {
     "data": {
      "text/plain": [
       "SequentialChain(verbose=False, chains=[LLMChain(verbose=True, prompt=PromptTemplate(input_variables=['city'], input_types={}, partial_variables={}, template='{city}의 랜드마크를 1개만 알려주세요. 설명없이 이름만 알려주세요.'), llm=ChatOpenAI(client=<openai.resources.chat.completions.completions.Completions object at 0x000001DE36460BC0>, async_client=<openai.resources.chat.completions.completions.AsyncCompletions object at 0x000001DE36200BC0>, root_client=<openai.OpenAI object at 0x000001DE347EF6E0>, root_async_client=<openai.AsyncOpenAI object at 0x000001DE35F93350>, model_name='gpt-4o-mini', model_kwargs={}, openai_api_key=SecretStr('**********')), output_key='landmark', output_parser=StrOutputParser(), llm_kwargs={}), LLMChain(verbose=False, prompt=PromptTemplate(input_variables=['landmark', 'transport'], input_types={}, partial_variables={}, template='{landmark}에 {transport}로 가는 방법이 무엇인가요?'), llm=ChatOpenAI(client=<openai.resources.chat.completions.completions.Completions object at 0x000001DE36460BC0>, async_client=<openai.resources.chat.completions.completions.AsyncCompletions object at 0x000001DE36200BC0>, root_client=<openai.OpenAI object at 0x000001DE347EF6E0>, root_async_client=<openai.AsyncOpenAI object at 0x000001DE35F93350>, model_name='gpt-4o-mini', model_kwargs={}, openai_api_key=SecretStr('**********')), output_parser=StrOutputParser(), llm_kwargs={})], input_variables=['city', 'transport'], output_variables=['text'])"
      ]
     },
     "execution_count": 6,
     "metadata": {},
     "output_type": "execute_result"
    }
   ],
   "source": [
    "from langchain.chains import SequentialChain\n",
    "\n",
    "prompt1 = PromptTemplate.from_template('{city}의 랜드마크를 1개만 알려주세요. 설명없이 이름만 알려주세요.')\n",
    "prompt2 = PromptTemplate.from_template('{landmark}에 {transport}로 가는 방법이 무엇인가요?')\n",
    "\n",
    "chain1 = LLMChain(llm=llm, prompt=prompt1, output_key='landmark', verbose=True)\n",
    "chain2 = LLMChain(llm=llm, prompt=prompt2)\n",
    "\n",
    "seq_chain = SequentialChain(chains=[chain1, chain2], input_variables=['city', 'transport'])\n",
    "seq_chain"
   ]
  },
  {
   "cell_type": "code",
   "execution_count": null,
   "id": "7f34eb6b",
   "metadata": {},
   "outputs": [],
   "source": []
  },
  {
   "cell_type": "code",
   "execution_count": null,
   "id": "64e1577a",
   "metadata": {},
   "outputs": [],
   "source": []
  }
 ],
 "metadata": {
  "kernelspec": {
   "display_name": "prompting_env",
   "language": "python",
   "name": "python3"
  },
  "language_info": {
   "codemirror_mode": {
    "name": "ipython",
    "version": 3
   },
   "file_extension": ".py",
   "mimetype": "text/x-python",
   "name": "python",
   "nbconvert_exporter": "python",
   "pygments_lexer": "ipython3",
   "version": "3.12.11"
  }
 },
 "nbformat": 4,
 "nbformat_minor": 5
}
