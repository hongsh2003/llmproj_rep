{
 "cells": [
  {
   "cell_type": "markdown",
   "id": "405eaccf",
   "metadata": {},
   "source": [
    "# openai\n",
    "# upstage\n",
    "# ollama"
   ]
  },
  {
   "cell_type": "code",
   "execution_count": null,
   "id": "1dc49845",
   "metadata": {},
   "outputs": [
    {
     "name": "stdout",
     "output_type": "stream",
     "text": [
      "Collecting langchain-upstage\n",
      "  Downloading langchain_upstage-0.7.3-py3-none-any.whl.metadata (3.3 kB)\n",
      "Requirement already satisfied: langchain-core<0.4.0,>=0.3.29 in c:\\users\\admin\\miniconda3\\envs\\prompting_env\\lib\\site-packages (from langchain-upstage) (0.3.75)\n",
      "Requirement already satisfied: langchain-openai<0.4,>=0.3 in c:\\users\\admin\\miniconda3\\envs\\prompting_env\\lib\\site-packages (from langchain-upstage) (0.3.31)\n",
      "Collecting pypdf<5.0.0,>=4.2.0 (from langchain-upstage)\n",
      "  Downloading pypdf-4.3.1-py3-none-any.whl.metadata (7.4 kB)\n",
      "Requirement already satisfied: requests<3.0.0,>=2.31.0 in c:\\users\\admin\\miniconda3\\envs\\prompting_env\\lib\\site-packages (from langchain-upstage) (2.32.5)\n",
      "Collecting tokenizers<0.21.0,>=0.20.0 (from langchain-upstage)\n",
      "  Downloading tokenizers-0.20.3-cp312-none-win_amd64.whl.metadata (6.9 kB)\n",
      "Requirement already satisfied: langsmith>=0.3.45 in c:\\users\\admin\\miniconda3\\envs\\prompting_env\\lib\\site-packages (from langchain-core<0.4.0,>=0.3.29->langchain-upstage) (0.4.15)\n",
      "Requirement already satisfied: tenacity!=8.4.0,<10.0.0,>=8.1.0 in c:\\users\\admin\\miniconda3\\envs\\prompting_env\\lib\\site-packages (from langchain-core<0.4.0,>=0.3.29->langchain-upstage) (9.1.2)\n",
      "Requirement already satisfied: jsonpatch<2.0,>=1.33 in c:\\users\\admin\\miniconda3\\envs\\prompting_env\\lib\\site-packages (from langchain-core<0.4.0,>=0.3.29->langchain-upstage) (1.33)\n",
      "Requirement already satisfied: PyYAML>=5.3 in c:\\users\\admin\\miniconda3\\envs\\prompting_env\\lib\\site-packages (from langchain-core<0.4.0,>=0.3.29->langchain-upstage) (6.0.2)\n",
      "Requirement already satisfied: typing-extensions>=4.7 in c:\\users\\admin\\miniconda3\\envs\\prompting_env\\lib\\site-packages (from langchain-core<0.4.0,>=0.3.29->langchain-upstage) (4.14.1)\n",
      "Requirement already satisfied: packaging>=23.2 in c:\\users\\admin\\miniconda3\\envs\\prompting_env\\lib\\site-packages (from langchain-core<0.4.0,>=0.3.29->langchain-upstage) (25.0)\n",
      "Requirement already satisfied: pydantic>=2.7.4 in c:\\users\\admin\\miniconda3\\envs\\prompting_env\\lib\\site-packages (from langchain-core<0.4.0,>=0.3.29->langchain-upstage) (2.11.7)\n",
      "Requirement already satisfied: jsonpointer>=1.9 in c:\\users\\admin\\miniconda3\\envs\\prompting_env\\lib\\site-packages (from jsonpatch<2.0,>=1.33->langchain-core<0.4.0,>=0.3.29->langchain-upstage) (3.0.0)\n",
      "Requirement already satisfied: openai<2.0.0,>=1.99.9 in c:\\users\\admin\\miniconda3\\envs\\prompting_env\\lib\\site-packages (from langchain-openai<0.4,>=0.3->langchain-upstage) (1.101.0)\n",
      "Requirement already satisfied: tiktoken<1,>=0.7 in c:\\users\\admin\\miniconda3\\envs\\prompting_env\\lib\\site-packages (from langchain-openai<0.4,>=0.3->langchain-upstage) (0.11.0)\n",
      "Requirement already satisfied: anyio<5,>=3.5.0 in c:\\users\\admin\\miniconda3\\envs\\prompting_env\\lib\\site-packages (from openai<2.0.0,>=1.99.9->langchain-openai<0.4,>=0.3->langchain-upstage) (4.10.0)\n",
      "Requirement already satisfied: distro<2,>=1.7.0 in c:\\users\\admin\\miniconda3\\envs\\prompting_env\\lib\\site-packages (from openai<2.0.0,>=1.99.9->langchain-openai<0.4,>=0.3->langchain-upstage) (1.9.0)\n",
      "Requirement already satisfied: httpx<1,>=0.23.0 in c:\\users\\admin\\miniconda3\\envs\\prompting_env\\lib\\site-packages (from openai<2.0.0,>=1.99.9->langchain-openai<0.4,>=0.3->langchain-upstage) (0.28.1)\n",
      "Requirement already satisfied: jiter<1,>=0.4.0 in c:\\users\\admin\\miniconda3\\envs\\prompting_env\\lib\\site-packages (from openai<2.0.0,>=1.99.9->langchain-openai<0.4,>=0.3->langchain-upstage) (0.10.0)\n",
      "Requirement already satisfied: sniffio in c:\\users\\admin\\miniconda3\\envs\\prompting_env\\lib\\site-packages (from openai<2.0.0,>=1.99.9->langchain-openai<0.4,>=0.3->langchain-upstage) (1.3.1)\n",
      "Requirement already satisfied: tqdm>4 in c:\\users\\admin\\miniconda3\\envs\\prompting_env\\lib\\site-packages (from openai<2.0.0,>=1.99.9->langchain-openai<0.4,>=0.3->langchain-upstage) (4.67.1)\n",
      "Requirement already satisfied: idna>=2.8 in c:\\users\\admin\\miniconda3\\envs\\prompting_env\\lib\\site-packages (from anyio<5,>=3.5.0->openai<2.0.0,>=1.99.9->langchain-openai<0.4,>=0.3->langchain-upstage) (3.10)\n",
      "Requirement already satisfied: certifi in c:\\users\\admin\\miniconda3\\envs\\prompting_env\\lib\\site-packages (from httpx<1,>=0.23.0->openai<2.0.0,>=1.99.9->langchain-openai<0.4,>=0.3->langchain-upstage) (2025.8.3)\n",
      "Requirement already satisfied: httpcore==1.* in c:\\users\\admin\\miniconda3\\envs\\prompting_env\\lib\\site-packages (from httpx<1,>=0.23.0->openai<2.0.0,>=1.99.9->langchain-openai<0.4,>=0.3->langchain-upstage) (1.0.9)\n",
      "Requirement already satisfied: h11>=0.16 in c:\\users\\admin\\miniconda3\\envs\\prompting_env\\lib\\site-packages (from httpcore==1.*->httpx<1,>=0.23.0->openai<2.0.0,>=1.99.9->langchain-openai<0.4,>=0.3->langchain-upstage) (0.16.0)\n",
      "Requirement already satisfied: annotated-types>=0.6.0 in c:\\users\\admin\\miniconda3\\envs\\prompting_env\\lib\\site-packages (from pydantic>=2.7.4->langchain-core<0.4.0,>=0.3.29->langchain-upstage) (0.7.0)\n",
      "Requirement already satisfied: pydantic-core==2.33.2 in c:\\users\\admin\\miniconda3\\envs\\prompting_env\\lib\\site-packages (from pydantic>=2.7.4->langchain-core<0.4.0,>=0.3.29->langchain-upstage) (2.33.2)\n",
      "Requirement already satisfied: typing-inspection>=0.4.0 in c:\\users\\admin\\miniconda3\\envs\\prompting_env\\lib\\site-packages (from pydantic>=2.7.4->langchain-core<0.4.0,>=0.3.29->langchain-upstage) (0.4.1)\n",
      "Requirement already satisfied: charset_normalizer<4,>=2 in c:\\users\\admin\\miniconda3\\envs\\prompting_env\\lib\\site-packages (from requests<3.0.0,>=2.31.0->langchain-upstage) (3.4.3)\n",
      "Requirement already satisfied: urllib3<3,>=1.21.1 in c:\\users\\admin\\miniconda3\\envs\\prompting_env\\lib\\site-packages (from requests<3.0.0,>=2.31.0->langchain-upstage) (2.5.0)\n",
      "Requirement already satisfied: regex>=2022.1.18 in c:\\users\\admin\\miniconda3\\envs\\prompting_env\\lib\\site-packages (from tiktoken<1,>=0.7->langchain-openai<0.4,>=0.3->langchain-upstage) (2025.7.34)\n",
      "Collecting huggingface-hub<1.0,>=0.16.4 (from tokenizers<0.21.0,>=0.20.0->langchain-upstage)\n",
      "  Using cached huggingface_hub-0.34.4-py3-none-any.whl.metadata (14 kB)\n",
      "Collecting filelock (from huggingface-hub<1.0,>=0.16.4->tokenizers<0.21.0,>=0.20.0->langchain-upstage)\n",
      "  Downloading filelock-3.19.1-py3-none-any.whl.metadata (2.1 kB)\n",
      "Requirement already satisfied: fsspec>=2023.5.0 in c:\\users\\admin\\miniconda3\\envs\\prompting_env\\lib\\site-packages (from huggingface-hub<1.0,>=0.16.4->tokenizers<0.21.0,>=0.20.0->langchain-upstage) (2025.7.0)\n",
      "Requirement already satisfied: orjson>=3.9.14 in c:\\users\\admin\\miniconda3\\envs\\prompting_env\\lib\\site-packages (from langsmith>=0.3.45->langchain-core<0.4.0,>=0.3.29->langchain-upstage) (3.11.2)\n",
      "Requirement already satisfied: requests-toolbelt>=1.0.0 in c:\\users\\admin\\miniconda3\\envs\\prompting_env\\lib\\site-packages (from langsmith>=0.3.45->langchain-core<0.4.0,>=0.3.29->langchain-upstage) (1.0.0)\n",
      "Requirement already satisfied: zstandard>=0.23.0 in c:\\users\\admin\\miniconda3\\envs\\prompting_env\\lib\\site-packages (from langsmith>=0.3.45->langchain-core<0.4.0,>=0.3.29->langchain-upstage) (0.24.0)\n",
      "Requirement already satisfied: colorama in c:\\users\\admin\\miniconda3\\envs\\prompting_env\\lib\\site-packages (from tqdm>4->openai<2.0.0,>=1.99.9->langchain-openai<0.4,>=0.3->langchain-upstage) (0.4.6)\n",
      "Downloading langchain_upstage-0.7.3-py3-none-any.whl (25 kB)\n",
      "Downloading pypdf-4.3.1-py3-none-any.whl (295 kB)\n",
      "Downloading tokenizers-0.20.3-cp312-none-win_amd64.whl (2.4 MB)\n",
      "   ---------------------------------------- 0.0/2.4 MB ? eta -:--:--\n",
      "   ---------------------------------------- 2.4/2.4 MB 22.5 MB/s  0:00:00\n",
      "Using cached huggingface_hub-0.34.4-py3-none-any.whl (561 kB)\n",
      "Downloading filelock-3.19.1-py3-none-any.whl (15 kB)\n",
      "Installing collected packages: pypdf, filelock, huggingface-hub, tokenizers, langchain-upstage\n",
      "\n",
      "  Attempting uninstall: pypdf\n",
      "\n",
      "    Found existing installation: pypdf 6.0.0\n",
      "\n",
      "    Uninstalling pypdf-6.0.0:\n",
      "\n",
      "      Successfully uninstalled pypdf-6.0.0\n",
      "\n",
      "   ---------------------------------------- 0/5 [pypdf]\n",
      "   ---------------- ----------------------- 2/5 [huggingface-hub]\n",
      "   ---------------- ----------------------- 2/5 [huggingface-hub]\n",
      "   ---------------- ----------------------- 2/5 [huggingface-hub]\n",
      "   ---------------------------------------- 5/5 [langchain-upstage]\n",
      "\n",
      "Successfully installed filelock-3.19.1 huggingface-hub-0.34.4 langchain-upstage-0.7.3 pypdf-4.3.1 tokenizers-0.20.3\n"
     ]
    },
    {
     "name": "stderr",
     "output_type": "stream",
     "text": [
      "ERROR: pip's dependency resolver does not currently take into account all the packages that are installed. This behaviour is the source of the following dependency conflicts.\n",
      "llama-index-readers-file 0.5.2 requires pypdf<7,>=5.1.0, but you have pypdf 4.3.1 which is incompatible.\n"
     ]
    }
   ],
   "source": [
    "# ! pip install langchain-upstage"
   ]
  },
  {
   "cell_type": "code",
   "execution_count": null,
   "id": "9cb46aa3",
   "metadata": {},
   "outputs": [],
   "source": [
    "from dotenv import load_dotenv\n",
    "import os\n",
    "\n",
    "load_dotenv()\n",
    "upstage_api_key = os.getenv('UPSTAGE_API_KEY')\n",
    "print(\"API Key configured:\", \"OPENAI_API_KEY\" in os.environ)\n",
    "\n",
    "from openai import OpenAI\n",
    "client = OpenAI()"
   ]
  },
  {
   "cell_type": "code",
   "execution_count": null,
   "id": "755c8254",
   "metadata": {},
   "outputs": [
    {
     "name": "stdout",
     "output_type": "stream",
     "text": [
      "content=\"Hello! I'm just a large language model, so I don't have feelings, but I'm here and ready to help you. How can I assist you today? Is there something you'd like to talk about or ask about? 😊\" additional_kwargs={'refusal': None} response_metadata={'token_usage': {'completion_tokens': 50, 'prompt_tokens': 20, 'total_tokens': 70, 'completion_tokens_details': {'accepted_prediction_tokens': 0, 'audio_tokens': 0, 'reasoning_tokens': 0, 'rejected_prediction_tokens': 0}, 'prompt_tokens_details': {'audio_tokens': 0, 'cached_tokens': 0}}, 'model_name': 'solar-pro2-250710', 'system_fingerprint': None, 'id': 'f9506626-f372-4cad-9829-95de093abda6', 'service_tier': None, 'finish_reason': 'stop', 'logprobs': None} id='run--d873f560-142c-4d9d-a4bd-058ea0be6589-0' usage_metadata={'input_tokens': 20, 'output_tokens': 50, 'total_tokens': 70, 'input_token_details': {'audio': 0, 'cache_read': 0}, 'output_token_details': {'audio': 0, 'reasoning': 0}}\n"
     ]
    }
   ],
   "source": [
    "# pip install -qU langchain-core langchain-upstage\n",
    " \n",
    "from langchain_upstage import ChatUpstage\n",
    "from langchain_core.messages import HumanMessage\n",
    " \n",
    "chat = ChatUpstage(api_key=os.getenv('UPSTAGE_API_KEY'), model=\"solar-pro2\")\n",
    " \n",
    "messages = [\n",
    "    HumanMessage(\n",
    "        content=\"Hi, how are you?\"\n",
    "    )\n",
    "]\n",
    " \n",
    "response = chat.invoke(messages)\n",
    "print(response)"
   ]
  },
  {
   "cell_type": "code",
   "execution_count": 4,
   "id": "7c854f00",
   "metadata": {},
   "outputs": [
    {
     "name": "stderr",
     "output_type": "stream",
     "text": [
      "C:\\Users\\Admin\\AppData\\Local\\Temp\\ipykernel_10384\\716168899.py:2: LangChainDeprecationWarning: The class `ChatOllama` was deprecated in LangChain 0.3.1 and will be removed in 1.0.0. An updated version of the class exists in the :class:`~langchain-ollama package and should be used instead. To use it run `pip install -U :class:`~langchain-ollama` and import as `from :class:`~langchain_ollama import ChatOllama``.\n",
      "  llm_ollama = ChatOllama(model='gemma2')\n"
     ]
    },
    {
     "data": {
      "text/plain": [
       "'I am Gemma, an open-weights AI assistant developed by the Gemma team at Google DeepMind. I can process and generate text, helping you with tasks like writing, summarizing, and answering questions.'"
      ]
     },
     "execution_count": 4,
     "metadata": {},
     "output_type": "execute_result"
    }
   ],
   "source": [
    "from langchain_community.chat_models import ChatOllama\n",
    "llm_ollama = ChatOllama(model='gemma2')\n",
    "response = llm_ollama.invoke('Hi. Introduce yourself in 2 sentences')\n",
    "response.content"
   ]
  }
 ],
 "metadata": {
  "kernelspec": {
   "display_name": "prompting_env",
   "language": "python",
   "name": "python3"
  },
  "language_info": {
   "codemirror_mode": {
    "name": "ipython",
    "version": 3
   },
   "file_extension": ".py",
   "mimetype": "text/x-python",
   "name": "python",
   "nbconvert_exporter": "python",
   "pygments_lexer": "ipython3",
   "version": "3.12.11"
  }
 },
 "nbformat": 4,
 "nbformat_minor": 5
}
