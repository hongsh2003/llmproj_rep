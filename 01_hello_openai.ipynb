{
 "cells": [
  {
   "cell_type": "code",
   "execution_count": 1,
   "id": "20610363",
   "metadata": {},
   "outputs": [],
   "source": [
    "from dotenv import load_dotenv\n",
    "import os"
   ]
  },
  {
   "cell_type": "code",
   "execution_count": 3,
   "id": "18da2a97",
   "metadata": {},
   "outputs": [
    {
     "name": "stdout",
     "output_type": "stream",
     "text": [
      "API Key configured: True\n"
     ]
    }
   ],
   "source": [
    "load_dotenv()\n",
    "open_api_key = os.getenv('OPENAI_API_KEY')\n",
    "print(\"API Key configured:\", \"OPENAI_API_KEY\" in os.environ)"
   ]
  },
  {
   "cell_type": "code",
   "execution_count": 4,
   "id": "ea41c3f9",
   "metadata": {},
   "outputs": [
    {
     "data": {
      "text/plain": [
       "'1.101.0'"
      ]
     },
     "execution_count": 4,
     "metadata": {},
     "output_type": "execute_result"
    }
   ],
   "source": [
    "import openai\n",
    "openai.__version__"
   ]
  },
  {
   "cell_type": "code",
   "execution_count": 6,
   "id": "242d2f51",
   "metadata": {},
   "outputs": [],
   "source": [
    "from openai import OpenAI\n",
    "client = OpenAI()\n",
    "\n",
    "response = client.responses.create(\n",
    "  model=\"gpt-4o-mini\",\n",
    "  input=[\n",
    "    {\n",
    "      \"role\": \"system\",\n",
    "      \"content\": [\n",
    "        {\n",
    "          \"type\": \"input_text\",\n",
    "          \"text\": \"답변을 할 때 항상 세부 목록을 만들어서 제공해줘\"\n",
    "        }\n",
    "      ]\n",
    "    },\n",
    "    {\n",
    "      \"role\": \"user\",\n",
    "      \"content\": [\n",
    "        {\n",
    "          \"type\": \"input_text\",\n",
    "          \"text\": \"하늘\"\n",
    "        }\n",
    "      ]\n",
    "    },\n",
    "    {\n",
    "      \"id\": \"msg_68a7c6da5f608196aff55ec857ce7a160de43609bd3d0ea5\",\n",
    "      \"role\": \"assistant\",\n",
    "      \"content\": [\n",
    "        {\n",
    "          \"type\": \"output_text\",\n",
    "          \"text\": \"\\\"하늘\\\"에 대해 설명드리겠습니다. 하늘은 여러 가지 관점에서 이해할 수 있는 다양한 요소를 포함합니다.\\n\\n### 하늘의 정의\\n1. **자연 현상**\\n   - 구름, 비, 햇빛 등\\n   - 기상 변화의 배경\\n\\n2. **천체**\\n   - 태양, 달, 별, 행성\\n   - 천문학적 관점에서의 연구\\n\\n3. **감정적 의미**\\n   - 자유, 평화, 꿈과 같은 상징\\n\\n### 하늘의 종류\\n1. **낮 하늘**\\n   - 맑은 하늘, 흐린 하늘\\n   - 일출과 일몰의 변화\\n\\n2. **밤 하늘**\\n   - 별, 은하수\\n   - 천체 망원경으로 관찰 가능한 객체\\n\\n### 하늘의 색\\n1. **파란색**\\n   - 대기 중 산란에 의한 현상\\n2. **붉은색**\\n   - 일출이나 일몰 시 발생\\n   - 공기 중 먼지와 습도의 영향\\n\\n### 하늘 관찰의 방법\\n1. **육안 관찰**\\n   - 별자리 찾기, 구름 모양 관찰\\n\\n2. **장비 사용**\\n   - 망원경, 쌍안경\\n   - 카메라를 이용한 사진 촬영\\n\\n### 하늘과 관련된 문화\\n1. **신화와 전설**\\n   - 다양한 문화에서 하늘 신에 대한 이야기\\n2. **예술**\\n   - 하늘을 주제로 한 그림, 시, 음악 등\\n\\n하늘은 우리의 일상과 자연, 문화에 깊은 영향을 미치는 중요한 요소입니다. 추가적으로 궁금한 점이 있으면 말씀해 주세요!\"\n",
    "        }\n",
    "      ]\n",
    "    }\n",
    "  ],\n",
    "  text={\n",
    "    \"format\": {\n",
    "      \"type\": \"text\"\n",
    "    }\n",
    "  },\n",
    "  reasoning={},\n",
    "  tools=[],\n",
    "  temperature=1,\n",
    "  max_output_tokens=10000,\n",
    "  top_p=1,\n",
    "  store=True\n",
    ")"
   ]
  },
  {
   "cell_type": "code",
   "execution_count": 7,
   "id": "703d9da2",
   "metadata": {},
   "outputs": [
    {
     "data": {
      "text/plain": [
       "Response(id='resp_68a7c6e96a2c8196bd8f654868e451ac0de43609bd3d0ea5', created_at=1755825897.0, error=None, incomplete_details=None, instructions=None, metadata={}, model='gpt-4o-mini-2024-07-18', object='response', output=[ResponseOutputMessage(id='msg_68a7c6ea416c8196958bbd3b1f981ca60de43609bd3d0ea5', content=[ResponseOutputText(annotations=[], text='\"하늘\"에 대해 구체적으로 알아보고 싶으신가요? 아래와 같은 주제로 더 자세히 설명드릴 수 있습니다.\\n\\n### 1. 하늘의 구성 요소\\n- **대기**: 여러 가지 기체(산소, 질소 등)로 구성되어 있으며, 날씨와 기상 현상을 형성.\\n- **태양과 달**: 지구의 궤도를 도는 두 주요 천체.\\n- **별**: 우주에 퍼져 있는 많은 별들이 시각적으로 보임.\\n\\n### 2. 하늘의 변화\\n- **일조와 일몰**: 하루가 지나면서 하늘의 색과 빛이 변화.\\n- **계절에 따른 변화**: 계절에 따라 다양한 기상 현상을 경험.\\n\\n### 3. 하늘의 색상 변화\\n- **파란 하늘**: 낮 시간의 대기 산란 현상.\\n- **붉은 또는 주황색 하늘**: 해가 뜨거나 질 때의 색상 변화.\\n\\n### 4. 천문 현상\\n- **유성우**: 특정한 시간에 다수의 유성이 하늘을 가로지를 때 관찰.\\n- **행성 관찰**: 망원경을 통해 가까운 행성들 관찰 가능.\\n\\n### 5. 하늘과 문화\\n- **신화**: 하늘과 관련된 많은 문화적 신화와 믿음.\\n- **예술 작품**: 하늘을 주제로 한 그림이나 사진, 문학.\\n\\n이 외에 특정 주제나 관심 분야가 있으시면 말씀해 주세요!', type='output_text', logprobs=[])], role='assistant', status='completed', type='message')], parallel_tool_calls=True, temperature=1.0, tool_choice='auto', tools=[], top_p=1.0, background=False, conversation=None, max_output_tokens=10000, max_tool_calls=None, previous_response_id=None, prompt=None, prompt_cache_key=None, reasoning=Reasoning(effort=None, generate_summary=None, summary=None), safety_identifier=None, service_tier='default', status='completed', text=ResponseTextConfig(format=ResponseFormatText(type='text'), verbosity='medium'), top_logprobs=0, truncation='disabled', usage=ResponseUsage(input_tokens=415, input_tokens_details=InputTokensDetails(cached_tokens=0), output_tokens=346, output_tokens_details=OutputTokensDetails(reasoning_tokens=0), total_tokens=761), user=None, store=True)"
      ]
     },
     "execution_count": 7,
     "metadata": {},
     "output_type": "execute_result"
    }
   ],
   "source": [
    "response"
   ]
  },
  {
   "cell_type": "code",
   "execution_count": 9,
   "id": "34e56f70",
   "metadata": {},
   "outputs": [
    {
     "data": {
      "text/plain": [
       "'\"하늘\"에 대해 구체적으로 알아보고 싶으신가요? 아래와 같은 주제로 더 자세히 설명드릴 수 있습니다.\\n\\n### 1. 하늘의 구성 요소\\n- **대기**: 여러 가지 기체(산소, 질소 등)로 구성되어 있으며, 날씨와 기상 현상을 형성.\\n- **태양과 달**: 지구의 궤도를 도는 두 주요 천체.\\n- **별**: 우주에 퍼져 있는 많은 별들이 시각적으로 보임.\\n\\n### 2. 하늘의 변화\\n- **일조와 일몰**: 하루가 지나면서 하늘의 색과 빛이 변화.\\n- **계절에 따른 변화**: 계절에 따라 다양한 기상 현상을 경험.\\n\\n### 3. 하늘의 색상 변화\\n- **파란 하늘**: 낮 시간의 대기 산란 현상.\\n- **붉은 또는 주황색 하늘**: 해가 뜨거나 질 때의 색상 변화.\\n\\n### 4. 천문 현상\\n- **유성우**: 특정한 시간에 다수의 유성이 하늘을 가로지를 때 관찰.\\n- **행성 관찰**: 망원경을 통해 가까운 행성들 관찰 가능.\\n\\n### 5. 하늘과 문화\\n- **신화**: 하늘과 관련된 많은 문화적 신화와 믿음.\\n- **예술 작품**: 하늘을 주제로 한 그림이나 사진, 문학.\\n\\n이 외에 특정 주제나 관심 분야가 있으시면 말씀해 주세요!'"
      ]
     },
     "execution_count": 9,
     "metadata": {},
     "output_type": "execute_result"
    }
   ],
   "source": [
    "response.output[0].content[0].text"
   ]
  },
  {
   "cell_type": "markdown",
   "id": "c14ed364",
   "metadata": {},
   "source": [
    "# chat completion api"
   ]
  },
  {
   "cell_type": "code",
   "execution_count": 10,
   "id": "ddbd5b98",
   "metadata": {},
   "outputs": [],
   "source": [
    "from openai import OpenAI\n",
    "client = OpenAI()\n",
    "\n",
    "response = client.chat.completions.create(\n",
    "  model=\"gpt-4o-mini\",\n",
    "  messages=[\n",
    "    {\n",
    "      \"role\": \"system\",\n",
    "      \"content\": [\n",
    "        {\n",
    "          \"type\": \"text\",\n",
    "          \"text\": \"답변을 할 때 항상 세부 목록을 만들어서 제공해줘\"\n",
    "        }\n",
    "      ]\n",
    "    },\n",
    "    {\n",
    "      \"role\": \"user\",\n",
    "      \"content\": [\n",
    "        {\n",
    "          \"type\": \"text\",\n",
    "          \"text\": \"하늘\"\n",
    "        }\n",
    "      ]\n",
    "    },\n",
    "    {\n",
    "      \"role\": \"assistant\",\n",
    "      \"content\": [\n",
    "        {\n",
    "          \"type\": \"text\",\n",
    "          \"text\": \"\\\"하늘\\\"에 대해 설명드리겠습니다. 하늘은 여러 가지 관점에서 이해할 수 있는 다양한 요소를 포함합니다.\\n\\n### 하늘의 정의\\n1. **자연 현상**\\n   - 구름, 비, 햇빛 등\\n   - 기상 변화의 배경\\n\\n2. **천체**\\n   - 태양, 달, 별, 행성\\n   - 천문학적 관점에서의 연구\\n\\n3. **감정적 의미**\\n   - 자유, 평화, 꿈과 같은 상징\\n\\n### 하늘의 종류\\n1. **낮 하늘**\\n   - 맑은 하늘, 흐린 하늘\\n   - 일출과 일몰의 변화\\n\\n2. **밤 하늘**\\n   - 별, 은하수\\n   - 천체 망원경으로 관찰 가능한 객체\\n\\n### 하늘의 색\\n1. **파란색**\\n   - 대기 중 산란에 의한 현상\\n2. **붉은색**\\n   - 일출이나 일몰 시 발생\\n   - 공기 중 먼지와 습도의 영향\\n\\n### 하늘 관찰의 방법\\n1. **육안 관찰**\\n   - 별자리 찾기, 구름 모양 관찰\\n\\n2. **장비 사용**\\n   - 망원경, 쌍안경\\n   - 카메라를 이용한 사진 촬영\\n\\n### 하늘과 관련된 문화\\n1. **신화와 전설**\\n   - 다양한 문화에서 하늘 신에 대한 이야기\\n2. **예술**\\n   - 하늘을 주제로 한 그림, 시, 음악 등\\n\\n하늘은 우리의 일상과 자연, 문화에 깊은 영향을 미치는 중요한 요소입니다. 추가적으로 궁금한 점이 있으면 말씀해 주세요!\"\n",
    "        }\n",
    "      ]\n",
    "    }\n",
    "  ],\n",
    "  response_format={\n",
    "    \"type\": \"text\"\n",
    "  },\n",
    "  temperature=1,\n",
    "  max_completion_tokens=10000,\n",
    "  top_p=1,\n",
    "  frequency_penalty=0,\n",
    "  presence_penalty=0\n",
    ")"
   ]
  },
  {
   "cell_type": "code",
   "execution_count": 11,
   "id": "ecba6ba5",
   "metadata": {},
   "outputs": [
    {
     "data": {
      "text/plain": [
       "ChatCompletion(id='chatcmpl-C7AqJUorZP5XZvCGKWx7hKljYbgcJ', choices=[Choice(finish_reason='stop', index=0, logprobs=None, message=ChatCompletionMessage(content='\"하늘\"에 대해 좀 더 깊이 있는 설명을 추가하겠습니다. 세부 목록으로 구성해 드립니다.\\n\\n### 하늘의 정의\\n1. **자연 현상**\\n   - 대기와 구름의 존재로 이루어진 영역\\n   - 대기 중 기상 현상을 포함\\n\\n2. **천체**\\n   - 우주에 존재하는 다양한 천체를 관찰할 수 있는 공간\\n   - 태양계 및 은하 계와 관련된 연구\\n\\n3. **은유적 의미**\\n   - 인간의 감정이나 꿈, 희망을 상징\\n   - 평화롭고 자유로운 느낌과 관련\\n\\n### 하늘의 종류\\n1. **낮 하늘**\\n   - **파란 하늘**: 맑은 날 즐기는 푸른 하늘\\n   - **흐린 하늘**: 비가 오기 전의 구름이 많은 하늘\\n   - **섬광 또는 무지개**: 일시적인 날씨 현상\\n\\n2. **밤 하늘**\\n   - **별빛**: 다양한 별들이 반짝이는 모습\\n   - **행성 관측**: 보이는 행성 및 그 위치\\n   - **달의 다양한 위상**: 보름달, 초승달 등\\n\\n### 하늘의 색\\n1. **파란색**\\n   - 대기 중의 Rayleigh 산란에 의한 색\\n   - 열대 지방과 극지방의 하늘 색의 차이\\n\\n2. **붉은색**\\n   - 일출이나 일몰 시 나타나는 색 조합\\n   - 대기 중의 먼지나 수증기에 의해 강화됨\\n\\n3. **검은색**\\n   - 밤 하늘의 배경으로 사용\\n   - 우주의 신비와 광활함을 표현\\n\\n### 하늘 관찰의 방법\\n1. **육안 관찰**\\n   - 기본적인 별자리 찾기 및 천체 관찰\\n   - 날씨와 계절에 따라 변화하는 하늘의 모습\\n\\n2. **장비 사용**\\n   - **망원경**: 더 세밀한 관찰을 위한 도구\\n   - **쌍안경**: 이동 중의 간편한 관측\\n\\n3. **디지털 도구**\\n   - **천체 관측 앱**: 스마트폰을 이용한 천체 탐색\\n   - **드론 촬영**: 공중에서 하늘을 촬영하는 방법\\n\\n### 하늘과 관련된 문화\\n1. **신화와 전설**\\n   - 각 문화권에서 하늘을 신으로 축복하는 이야기\\n   - 고대 문명에서의 하늘 관련 신화\\n\\n2. **예술과 문학**\\n   - 하늘을 주제로 한 화가의 작품들\\n   - 시나 노래에서의 하늘에 대한 표현\\n\\n3. **종교적 상징성**\\n   - 하늘은 하느님의 거처로 여겨지기도 함\\n   - 기도와 명상에서 바라보는 대상으로 사용\\n\\n하늘은 다양한 측면에서 우리 생활과 밀접하게 연결되어 있습니다. 궁금한 점이 있다면 추가로 질문해 주세요!', refusal=None, role='assistant', annotations=[], audio=None, function_call=None, tool_calls=None))], created=1755826011, model='gpt-4o-mini-2024-07-18', object='chat.completion', service_tier='default', system_fingerprint='fp_560af6e559', usage=CompletionUsage(completion_tokens=682, prompt_tokens=415, total_tokens=1097, completion_tokens_details=CompletionTokensDetails(accepted_prediction_tokens=0, audio_tokens=0, reasoning_tokens=0, rejected_prediction_tokens=0), prompt_tokens_details=PromptTokensDetails(audio_tokens=0, cached_tokens=0)))"
      ]
     },
     "execution_count": 11,
     "metadata": {},
     "output_type": "execute_result"
    }
   ],
   "source": [
    "response"
   ]
  },
  {
   "cell_type": "code",
   "execution_count": 12,
   "id": "677617f9",
   "metadata": {},
   "outputs": [
    {
     "data": {
      "text/plain": [
       "[Choice(finish_reason='stop', index=0, logprobs=None, message=ChatCompletionMessage(content='\"하늘\"에 대해 좀 더 깊이 있는 설명을 추가하겠습니다. 세부 목록으로 구성해 드립니다.\\n\\n### 하늘의 정의\\n1. **자연 현상**\\n   - 대기와 구름의 존재로 이루어진 영역\\n   - 대기 중 기상 현상을 포함\\n\\n2. **천체**\\n   - 우주에 존재하는 다양한 천체를 관찰할 수 있는 공간\\n   - 태양계 및 은하 계와 관련된 연구\\n\\n3. **은유적 의미**\\n   - 인간의 감정이나 꿈, 희망을 상징\\n   - 평화롭고 자유로운 느낌과 관련\\n\\n### 하늘의 종류\\n1. **낮 하늘**\\n   - **파란 하늘**: 맑은 날 즐기는 푸른 하늘\\n   - **흐린 하늘**: 비가 오기 전의 구름이 많은 하늘\\n   - **섬광 또는 무지개**: 일시적인 날씨 현상\\n\\n2. **밤 하늘**\\n   - **별빛**: 다양한 별들이 반짝이는 모습\\n   - **행성 관측**: 보이는 행성 및 그 위치\\n   - **달의 다양한 위상**: 보름달, 초승달 등\\n\\n### 하늘의 색\\n1. **파란색**\\n   - 대기 중의 Rayleigh 산란에 의한 색\\n   - 열대 지방과 극지방의 하늘 색의 차이\\n\\n2. **붉은색**\\n   - 일출이나 일몰 시 나타나는 색 조합\\n   - 대기 중의 먼지나 수증기에 의해 강화됨\\n\\n3. **검은색**\\n   - 밤 하늘의 배경으로 사용\\n   - 우주의 신비와 광활함을 표현\\n\\n### 하늘 관찰의 방법\\n1. **육안 관찰**\\n   - 기본적인 별자리 찾기 및 천체 관찰\\n   - 날씨와 계절에 따라 변화하는 하늘의 모습\\n\\n2. **장비 사용**\\n   - **망원경**: 더 세밀한 관찰을 위한 도구\\n   - **쌍안경**: 이동 중의 간편한 관측\\n\\n3. **디지털 도구**\\n   - **천체 관측 앱**: 스마트폰을 이용한 천체 탐색\\n   - **드론 촬영**: 공중에서 하늘을 촬영하는 방법\\n\\n### 하늘과 관련된 문화\\n1. **신화와 전설**\\n   - 각 문화권에서 하늘을 신으로 축복하는 이야기\\n   - 고대 문명에서의 하늘 관련 신화\\n\\n2. **예술과 문학**\\n   - 하늘을 주제로 한 화가의 작품들\\n   - 시나 노래에서의 하늘에 대한 표현\\n\\n3. **종교적 상징성**\\n   - 하늘은 하느님의 거처로 여겨지기도 함\\n   - 기도와 명상에서 바라보는 대상으로 사용\\n\\n하늘은 다양한 측면에서 우리 생활과 밀접하게 연결되어 있습니다. 궁금한 점이 있다면 추가로 질문해 주세요!', refusal=None, role='assistant', annotations=[], audio=None, function_call=None, tool_calls=None))]"
      ]
     },
     "execution_count": 12,
     "metadata": {},
     "output_type": "execute_result"
    }
   ],
   "source": [
    "response.choices"
   ]
  },
  {
   "cell_type": "code",
   "execution_count": 13,
   "id": "1fbdf7c0",
   "metadata": {},
   "outputs": [
    {
     "data": {
      "text/plain": [
       "'\"하늘\"에 대해 좀 더 깊이 있는 설명을 추가하겠습니다. 세부 목록으로 구성해 드립니다.\\n\\n### 하늘의 정의\\n1. **자연 현상**\\n   - 대기와 구름의 존재로 이루어진 영역\\n   - 대기 중 기상 현상을 포함\\n\\n2. **천체**\\n   - 우주에 존재하는 다양한 천체를 관찰할 수 있는 공간\\n   - 태양계 및 은하 계와 관련된 연구\\n\\n3. **은유적 의미**\\n   - 인간의 감정이나 꿈, 희망을 상징\\n   - 평화롭고 자유로운 느낌과 관련\\n\\n### 하늘의 종류\\n1. **낮 하늘**\\n   - **파란 하늘**: 맑은 날 즐기는 푸른 하늘\\n   - **흐린 하늘**: 비가 오기 전의 구름이 많은 하늘\\n   - **섬광 또는 무지개**: 일시적인 날씨 현상\\n\\n2. **밤 하늘**\\n   - **별빛**: 다양한 별들이 반짝이는 모습\\n   - **행성 관측**: 보이는 행성 및 그 위치\\n   - **달의 다양한 위상**: 보름달, 초승달 등\\n\\n### 하늘의 색\\n1. **파란색**\\n   - 대기 중의 Rayleigh 산란에 의한 색\\n   - 열대 지방과 극지방의 하늘 색의 차이\\n\\n2. **붉은색**\\n   - 일출이나 일몰 시 나타나는 색 조합\\n   - 대기 중의 먼지나 수증기에 의해 강화됨\\n\\n3. **검은색**\\n   - 밤 하늘의 배경으로 사용\\n   - 우주의 신비와 광활함을 표현\\n\\n### 하늘 관찰의 방법\\n1. **육안 관찰**\\n   - 기본적인 별자리 찾기 및 천체 관찰\\n   - 날씨와 계절에 따라 변화하는 하늘의 모습\\n\\n2. **장비 사용**\\n   - **망원경**: 더 세밀한 관찰을 위한 도구\\n   - **쌍안경**: 이동 중의 간편한 관측\\n\\n3. **디지털 도구**\\n   - **천체 관측 앱**: 스마트폰을 이용한 천체 탐색\\n   - **드론 촬영**: 공중에서 하늘을 촬영하는 방법\\n\\n### 하늘과 관련된 문화\\n1. **신화와 전설**\\n   - 각 문화권에서 하늘을 신으로 축복하는 이야기\\n   - 고대 문명에서의 하늘 관련 신화\\n\\n2. **예술과 문학**\\n   - 하늘을 주제로 한 화가의 작품들\\n   - 시나 노래에서의 하늘에 대한 표현\\n\\n3. **종교적 상징성**\\n   - 하늘은 하느님의 거처로 여겨지기도 함\\n   - 기도와 명상에서 바라보는 대상으로 사용\\n\\n하늘은 다양한 측면에서 우리 생활과 밀접하게 연결되어 있습니다. 궁금한 점이 있다면 추가로 질문해 주세요!'"
      ]
     },
     "execution_count": 13,
     "metadata": {},
     "output_type": "execute_result"
    }
   ],
   "source": [
    "response.choices[0].message.content"
   ]
  }
 ],
 "metadata": {
  "kernelspec": {
   "display_name": "prompting_env",
   "language": "python",
   "name": "python3"
  },
  "language_info": {
   "codemirror_mode": {
    "name": "ipython",
    "version": 3
   },
   "file_extension": ".py",
   "mimetype": "text/x-python",
   "name": "python",
   "nbconvert_exporter": "python",
   "pygments_lexer": "ipython3",
   "version": "3.12.11"
  }
 },
 "nbformat": 4,
 "nbformat_minor": 5
}
