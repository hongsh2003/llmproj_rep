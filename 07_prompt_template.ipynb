{
 "cells": [
  {
   "cell_type": "markdown",
   "id": "9716c0e5",
   "metadata": {},
   "source": [
    "# prompt template"
   ]
  },
  {
   "cell_type": "code",
   "execution_count": 6,
   "id": "351e3e35",
   "metadata": {},
   "outputs": [
    {
     "data": {
      "text/plain": [
       "ChatOpenAI(client=<openai.resources.chat.completions.completions.Completions object at 0x000002255C9794C0>, async_client=<openai.resources.chat.completions.completions.AsyncCompletions object at 0x000002255CE55F10>, root_client=<openai.OpenAI object at 0x000002253954A240>, root_async_client=<openai.AsyncOpenAI object at 0x000002255C979430>, model_name='gpt-4o-mini', model_kwargs={}, openai_api_key=SecretStr('**********'))"
      ]
     },
     "execution_count": 6,
     "metadata": {},
     "output_type": "execute_result"
    }
   ],
   "source": [
    "from langchain_openai import ChatOpenAI\n",
    "\n",
    "llm = ChatOpenAI(model='gpt-4o-mini')\n",
    "llm"
   ]
  },
  {
   "cell_type": "code",
   "execution_count": 4,
   "id": "3ca3dac1",
   "metadata": {},
   "outputs": [
    {
     "data": {
      "text/plain": [
       "'서울에서 유명한 맛집을 알려주세요'"
      ]
     },
     "execution_count": 4,
     "metadata": {},
     "output_type": "execute_result"
    }
   ],
   "source": [
    "from langchain.prompts import PromptTemplate\n",
    "\n",
    "template = PromptTemplate.from_template('{city}에서 {adj} {topic}을 알려주세요')\n",
    "prompt = template.format(city='서울', adj='유명한', topic='맛집')\n",
    "prompt"
   ]
  },
  {
   "cell_type": "code",
   "execution_count": 7,
   "id": "8898b8b4",
   "metadata": {},
   "outputs": [
    {
     "data": {
      "text/plain": [
       "AIMessage(content=\"서울에는 다양한 맛집이 많아서 선택하기 어려울 정도입니다. 몇 가지 추천드릴게요!\\n\\n1. **광장시장** - 전통 시장으로, 빈대떡, 떡볶이, 그리고 마약김밥 등 다양한 길거리 음식을 즐길 수 있습니다.\\n\\n2. **이태원 앵무새** - 인도 음식 전문점으로, 커리와 난이 유명합니다. 독특한 분위기와 맛을 즐길 수 있습니다.\\n\\n3. **신당동 떡볶이 타운** - 다양한 스타일의 떡볶이를 맛볼 수 있는 곳으로, 특히 맵고 맛있는 떡볶이로 유명합니다.\\n\\n4. **을지로 입구 '골목식당'** - 소바와 교자 전문점으로, 수제교자와 다양한 요리를 즐길 수 있습니다.\\n\\n5. **홍대 '부엌'** - 이탈리안 음식과 와인을 즐길 수 있는 아늑한 레스토랑입니다.\\n\\n6. **압구정 '한정식'** - 정갈한 한정식을 경험할 수 있는 곳으로, 여러 가지 반찬과 함께 정통 한국 음식을 즐길 수 있습니다.\\n\\n이 외에도 서울에는 숨은 맛집이 많으니, 방문하시면서 다양한 음식을 시도해보시는 것도 좋습니다!\", additional_kwargs={'refusal': None}, response_metadata={'token_usage': {'completion_tokens': 291, 'prompt_tokens': 16, 'total_tokens': 307, 'completion_tokens_details': {'accepted_prediction_tokens': 0, 'audio_tokens': 0, 'reasoning_tokens': 0, 'rejected_prediction_tokens': 0}, 'prompt_tokens_details': {'audio_tokens': 0, 'cached_tokens': 0}}, 'model_name': 'gpt-4o-mini-2024-07-18', 'system_fingerprint': 'fp_8bda4d3a2c', 'id': 'chatcmpl-CDLv5G3DikUIisr1PTOnhjbHf1ZlC', 'service_tier': 'default', 'finish_reason': 'stop', 'logprobs': None}, id='run--31458411-4b8d-4dea-85e2-74b078fc157a-0', usage_metadata={'input_tokens': 16, 'output_tokens': 291, 'total_tokens': 307, 'input_token_details': {'audio': 0, 'cache_read': 0}, 'output_token_details': {'audio': 0, 'reasoning': 0}})"
      ]
     },
     "execution_count": 7,
     "metadata": {},
     "output_type": "execute_result"
    }
   ],
   "source": [
    "response = llm.invoke(prompt)\n",
    "response"
   ]
  },
  {
   "cell_type": "code",
   "execution_count": 8,
   "id": "335f9088",
   "metadata": {},
   "outputs": [
    {
     "data": {
      "text/plain": [
       "\"서울에는 다양한 맛집이 많아서 선택하기 어려울 정도입니다. 몇 가지 추천드릴게요!\\n\\n1. **광장시장** - 전통 시장으로, 빈대떡, 떡볶이, 그리고 마약김밥 등 다양한 길거리 음식을 즐길 수 있습니다.\\n\\n2. **이태원 앵무새** - 인도 음식 전문점으로, 커리와 난이 유명합니다. 독특한 분위기와 맛을 즐길 수 있습니다.\\n\\n3. **신당동 떡볶이 타운** - 다양한 스타일의 떡볶이를 맛볼 수 있는 곳으로, 특히 맵고 맛있는 떡볶이로 유명합니다.\\n\\n4. **을지로 입구 '골목식당'** - 소바와 교자 전문점으로, 수제교자와 다양한 요리를 즐길 수 있습니다.\\n\\n5. **홍대 '부엌'** - 이탈리안 음식과 와인을 즐길 수 있는 아늑한 레스토랑입니다.\\n\\n6. **압구정 '한정식'** - 정갈한 한정식을 경험할 수 있는 곳으로, 여러 가지 반찬과 함께 정통 한국 음식을 즐길 수 있습니다.\\n\\n이 외에도 서울에는 숨은 맛집이 많으니, 방문하시면서 다양한 음식을 시도해보시는 것도 좋습니다!\""
      ]
     },
     "execution_count": 8,
     "metadata": {},
     "output_type": "execute_result"
    }
   ],
   "source": [
    "response.content"
   ]
  },
  {
   "cell_type": "markdown",
   "id": "3299eb27",
   "metadata": {},
   "source": [
    "# template save"
   ]
  },
  {
   "cell_type": "code",
   "execution_count": 9,
   "id": "ee9104e9",
   "metadata": {},
   "outputs": [],
   "source": [
    "template.save('restaurant_tour_prompt.json')"
   ]
  },
  {
   "cell_type": "code",
   "execution_count": 10,
   "id": "374bc709",
   "metadata": {},
   "outputs": [
    {
     "data": {
      "text/plain": [
       "'부산에서 가장 멋진 해변을 알려주세요'"
      ]
     },
     "execution_count": 10,
     "metadata": {},
     "output_type": "execute_result"
    }
   ],
   "source": [
    "from langchain.prompts import load_prompt\n",
    "\n",
    "temp_load = load_prompt('restaurant_tour_prompt.json')\n",
    "prompt = temp_load.format(city='부산', adj='가장 멋진', topic='해변')\n",
    "prompt"
   ]
  },
  {
   "cell_type": "markdown",
   "id": "c9dcbcf2",
   "metadata": {},
   "source": [
    "# ChatPromptTemplate"
   ]
  },
  {
   "cell_type": "code",
   "execution_count": 11,
   "id": "0c664226",
   "metadata": {},
   "outputs": [
    {
     "data": {
      "text/plain": [
       "ChatPromptTemplate(input_variables=['place', 'question', 'travel', 'when'], input_types={}, partial_variables={}, messages=[SystemMessagePromptTemplate(prompt=PromptTemplate(input_variables=[], input_types={}, partial_variables={}, template='당신은 베테랑 여행 가이드입니다. 고객 맞춤 여행 일정 수립을 도와드립니다.'), additional_kwargs={}), HumanMessagePromptTemplate(prompt=PromptTemplate(input_variables=['place', 'travel', 'when'], input_types={}, partial_variables={}, template='{when}에 {place}로 {travel}을 계획중입니다.'), additional_kwargs={}), AIMessagePromptTemplate(prompt=PromptTemplate(input_variables=['place'], input_types={}, partial_variables={}, template='저는 {place}의 전문여행 가이드입니다. 어떤 도움이 필요하신가요?'), additional_kwargs={}), HumanMessagePromptTemplate(prompt=PromptTemplate(input_variables=['question'], input_types={}, partial_variables={}, template='{question}'), additional_kwargs={})])"
      ]
     },
     "execution_count": 11,
     "metadata": {},
     "output_type": "execute_result"
    }
   ],
   "source": [
    "from langchain.prompts import ChatPromptTemplate\n",
    "\n",
    "chat_template = ChatPromptTemplate.from_messages(\n",
    "    [\n",
    "        ('system', '당신은 베테랑 여행 가이드입니다. 고객 맞춤 여행 일정 수립을 도와드립니다.'),\n",
    "        ('human', '{when}에 {place}로 {travel}을 계획중입니다.'),\n",
    "        ('ai', '저는 {place}의 전문여행 가이드입니다. 어떤 도움이 필요하신가요?'),\n",
    "        ('human', '{question}')\n",
    "    ]\n",
    "    \n",
    ")\n",
    "\n",
    "chat_template"
   ]
  },
  {
   "cell_type": "code",
   "execution_count": 12,
   "id": "f22c2492",
   "metadata": {},
   "outputs": [
    {
     "data": {
      "text/plain": [
       "[SystemMessage(content='당신은 베테랑 여행 가이드입니다. 고객 맞춤 여행 일정 수립을 도와드립니다.', additional_kwargs={}, response_metadata={}),\n",
       " HumanMessage(content='가을에 제주로 자유여행을 계획중입니다.', additional_kwargs={}, response_metadata={}),\n",
       " AIMessage(content='저는 제주의 전문여행 가이드입니다. 어떤 도움이 필요하신가요?', additional_kwargs={}, response_metadata={}),\n",
       " HumanMessage(content='홍미로운 여행지 3곳 추천해줘', additional_kwargs={}, response_metadata={})]"
      ]
     },
     "execution_count": 12,
     "metadata": {},
     "output_type": "execute_result"
    }
   ],
   "source": [
    "final_prompt = chat_template.format_messages(when='가을', place='제주', travel='자유여행', question='홍미로운 여행지 3곳 추천해줘')\n",
    "final_prompt"
   ]
  },
  {
   "cell_type": "code",
   "execution_count": 14,
   "id": "727930d3",
   "metadata": {},
   "outputs": [
    {
     "data": {
      "text/plain": [
       "AIMessage(content='가을에 제주에서 방문하기 좋은 아름다운 여행지 3곳을 추천드립니다.\\n\\n1. **한라산 국립공원**\\n   - 가을의 한라산은 단풍으로 물들어 아름다운 풍경을 자아냅니다. 여러 등산로가 있어 초보자부터 숙련자까지 다양한 난이도의 트레킹을 즐길 수 있습니다. 정상에 오르면 제주 전체를 조망할 수 있는 멋진 경관이 펼쳐집니다.\\n\\n2. **성산일출봉**\\n   - 성산일출봉은 일출과 일몰로 유명한 제주도의 대표적인 명소입니다. 특히 가을철의 맑은 날씨는 성산일출봉에서의 전망을 더욱 돋보이게 합니다. 하이킹 후에는 근처의 성산포 해변에서 여유롭게 바다를 감상하세요.\\n\\n3. **우도**\\n   - 제주본섬에서 배로 짧은 거리에 위치한 우도는 아름다운 해변과 독특한 경관으로 유명합니다. 우도의 해안선을 따라 자전거를 타거나, 땅콩 아이스크림 같은 맛있는 먹거리를 즐기며 여유로운 시간을 보낼 수 있습니다.\\n\\n이 외에도 제주에는 다양한 명소와 활동이 많으니, 개인의 관심사에 따라 일정을 조정해보세요! 추가적인 정보나 추천이 필요하시면 언제든지 말씀해 주세요.', additional_kwargs={'refusal': None}, response_metadata={'token_usage': {'completion_tokens': 311, 'prompt_tokens': 85, 'total_tokens': 396, 'completion_tokens_details': {'accepted_prediction_tokens': 0, 'audio_tokens': 0, 'reasoning_tokens': 0, 'rejected_prediction_tokens': 0}, 'prompt_tokens_details': {'audio_tokens': 0, 'cached_tokens': 0}}, 'model_name': 'gpt-4o-mini-2024-07-18', 'system_fingerprint': 'fp_8bda4d3a2c', 'id': 'chatcmpl-CDM6MrAbWvVlcC3qzZs7yj78G0Cle', 'service_tier': 'default', 'finish_reason': 'stop', 'logprobs': None}, id='run--71d00b72-3c35-4b16-b50f-9840eeaa31dc-0', usage_metadata={'input_tokens': 85, 'output_tokens': 311, 'total_tokens': 396, 'input_token_details': {'audio': 0, 'cache_read': 0}, 'output_token_details': {'audio': 0, 'reasoning': 0}})"
      ]
     },
     "execution_count": 14,
     "metadata": {},
     "output_type": "execute_result"
    }
   ],
   "source": [
    "final_response = llm.invoke(final_prompt)\n",
    "final_response"
   ]
  },
  {
   "cell_type": "code",
   "execution_count": 15,
   "id": "21e289b6",
   "metadata": {},
   "outputs": [
    {
     "data": {
      "text/plain": [
       "'가을에 제주에서 방문하기 좋은 아름다운 여행지 3곳을 추천드립니다.\\n\\n1. **한라산 국립공원**\\n   - 가을의 한라산은 단풍으로 물들어 아름다운 풍경을 자아냅니다. 여러 등산로가 있어 초보자부터 숙련자까지 다양한 난이도의 트레킹을 즐길 수 있습니다. 정상에 오르면 제주 전체를 조망할 수 있는 멋진 경관이 펼쳐집니다.\\n\\n2. **성산일출봉**\\n   - 성산일출봉은 일출과 일몰로 유명한 제주도의 대표적인 명소입니다. 특히 가을철의 맑은 날씨는 성산일출봉에서의 전망을 더욱 돋보이게 합니다. 하이킹 후에는 근처의 성산포 해변에서 여유롭게 바다를 감상하세요.\\n\\n3. **우도**\\n   - 제주본섬에서 배로 짧은 거리에 위치한 우도는 아름다운 해변과 독특한 경관으로 유명합니다. 우도의 해안선을 따라 자전거를 타거나, 땅콩 아이스크림 같은 맛있는 먹거리를 즐기며 여유로운 시간을 보낼 수 있습니다.\\n\\n이 외에도 제주에는 다양한 명소와 활동이 많으니, 개인의 관심사에 따라 일정을 조정해보세요! 추가적인 정보나 추천이 필요하시면 언제든지 말씀해 주세요.'"
      ]
     },
     "execution_count": 15,
     "metadata": {},
     "output_type": "execute_result"
    }
   ],
   "source": [
    "final_response.content"
   ]
  },
  {
   "cell_type": "code",
   "execution_count": 18,
   "id": "7056b5c6",
   "metadata": {},
   "outputs": [
    {
     "data": {
      "text/plain": [
       "'당신은 동남아 베테랑 여행 가이드입니다. 고객 맞춤 여행 일정 수립을 도와드립니다.12월에 가족여행을 계획중입니다.'"
      ]
     },
     "execution_count": 18,
     "metadata": {},
     "output_type": "execute_result"
    }
   ],
   "source": [
    "prompt_1 = PromptTemplate.from_template('당신은 {place} 베테랑 여행 가이드입니다. 고객 맞춤 여행 일정 수립을 도와드립니다.')\n",
    "prompt_2 = PromptTemplate.from_template('{when}에 {travel}을 계획중입니다.')\n",
    "\n",
    "concat_prompt = prompt_1 + prompt_2\n",
    "concat_prompt.format(place='동남아', when='12월', travel='가족여행')"
   ]
  }
 ],
 "metadata": {
  "kernelspec": {
   "display_name": "prompting_env",
   "language": "python",
   "name": "python3"
  },
  "language_info": {
   "codemirror_mode": {
    "name": "ipython",
    "version": 3
   },
   "file_extension": ".py",
   "mimetype": "text/x-python",
   "name": "python",
   "nbconvert_exporter": "python",
   "pygments_lexer": "ipython3",
   "version": "3.12.11"
  }
 },
 "nbformat": 4,
 "nbformat_minor": 5
}
