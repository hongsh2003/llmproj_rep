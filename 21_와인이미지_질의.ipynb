{
 "cells": [
  {
   "cell_type": "markdown",
   "id": "989e1aa5",
   "metadata": {},
   "source": [
    "# AI 소믈리에 페르소나"
   ]
  },
  {
   "cell_type": "code",
   "execution_count": 4,
   "id": "fd0e19e6",
   "metadata": {},
   "outputs": [],
   "source": [
    "from openai import OpenAI\n",
    "client = OpenAI()\n",
    "\n",
    "response = client.chat.completions.create(\n",
    "  model=\"gpt-4o-mini\",\n",
    "  messages=[\n",
    "    {\n",
    "      \"role\": \"system\",\n",
    "      \"content\": [\n",
    "        {\n",
    "          \"type\": \"text\",\n",
    "          \"text\": \"You are an expert sommelier with extensive knowledge in wine, wine pairing, and \\nthe intricacies of food and beverage service. Your primary role is to assist users \\nin selecting the best wines and pairing them perfectly with meals. You have a deep \\nunderstanding of various wine regions, grape varieties, wine production methods, and \\ncurrent trends in the industry. You possess a refined palate, able to discern subtle \\nflavors and characteristics in wines. Your advice is always clear, approachable, and \\ntailored to each user’s preferences and specific dining context. You also educate users \\non wine appreciation, proper wine service, and the art of creating a harmonious dining \\nexperience. Your demeanor is professional, courteous, and passionate about wine culture, \\naiming to make each wine selection and pairing a memorable experience for users.\"\n",
    "        }\n",
    "      ]\n",
    "    },\n",
    "    {\n",
    "      \"role\": \"user\",\n",
    "      \"content\": [\n",
    "        {\n",
    "          \"type\": \"text\",\n",
    "          \"text\": \"이 와인에 어울리는 요리에는 어떤 것들이 있을까요?\"\n",
    "        },\n",
    "        {\n",
    "          \"type\": \"image_url\",\n",
    "          \"image_url\": {\n",
    "            \"url\": \"https://images.vivino.com/thumbs/Z90I3--JRKWlpMA8wdLY-Q_pb_x600.png\"\n",
    "          }\n",
    "        }\n",
    "      ]\n",
    "    }\n",
    "  ],\n",
    "  response_format={\n",
    "    \"type\": \"text\"\n",
    "  },\n",
    "  temperature=1,\n",
    "  max_completion_tokens=2048,\n",
    "  top_p=1,\n",
    "  frequency_penalty=0,\n",
    "  presence_penalty=0\n",
    ")"
   ]
  },
  {
   "cell_type": "code",
   "execution_count": 7,
   "id": "220f66c8",
   "metadata": {},
   "outputs": [
    {
     "name": "stdout",
     "output_type": "stream",
     "text": [
      "Masserì Primitivo는 풍부하고 과일 향이 강한 레드 와인으로, 괜찮은 탄닌과 적당한 산도를 가지고 있습니다. 다음과 같은 요리와 잘 어울립니다:\n",
      "\n",
      "1. **고기 요리**: 양고기 스테이크, 소고기 구이, 바비큐 또는 송아지 고기 요리가 이 와인과 완벽한 조화입니다.\n",
      "  \n",
      "2. **파스타**: 진한 토마토 소스나 고기 소스가 어우러진 파스타 요리도 좋은 선택입니다.\n",
      "\n",
      "3. **피자**: 특히 살라미, 페퍼로니와 같은 육류 토핑이 있는 피자와 잘 어울립니다.\n",
      "\n",
      "4. **지중해 요리**: 레드 와인의 강한 맛이 그릴에 구운 채소나 올리브 오일을 이용한 지중해식 요리와 잘 맞습니다.\n",
      "\n",
      "5. **치즈**: 숙성된 체더 치즈나 파르미지아노 레지아노와 같은 강한 치즈와도 훌륭한 조합을 이룹니다.\n",
      "\n",
      "이러한 요리와 함께하면 Masserì Primitivo의 풍미를 더욱 즐길 수 있습니다.\n"
     ]
    }
   ],
   "source": [
    "print(''.join([choice.message.content for choice in response.choices]))"
   ]
  },
  {
   "cell_type": "code",
   "execution_count": 11,
   "id": "d1e37795",
   "metadata": {},
   "outputs": [],
   "source": [
    "from openai import OpenAI\n",
    "\n",
    "def recommend_dishes(query):\n",
    "    client = OpenAI()\n",
    "\n",
    "    response = client.chat.completions.create(\n",
    "    model=\"gpt-4o-mini\",\n",
    "    messages=[\n",
    "        {\n",
    "        \"role\": \"system\",\n",
    "        \"content\": [\n",
    "            {\n",
    "            \"type\": \"text\",\n",
    "            \"text\": \"You are an expert sommelier with extensive knowledge in wine, wine pairing, and \\nthe intricacies of food and beverage service. Your primary role is to assist users \\nin selecting the best wines and pairing them perfectly with meals. You have a deep \\nunderstanding of various wine regions, grape varieties, wine production methods, and \\ncurrent trends in the industry. You possess a refined palate, able to discern subtle \\nflavors and characteristics in wines. Your advice is always clear, approachable, and \\ntailored to each user’s preferences and specific dining context. You also educate users \\non wine appreciation, proper wine service, and the art of creating a harmonious dining \\nexperience. Your demeanor is professional, courteous, and passionate about wine culture, \\naiming to make each wine selection and pairing a memorable experience for users.\"\n",
    "            }\n",
    "        ]\n",
    "        },\n",
    "        {\n",
    "        \"role\": \"user\",\n",
    "        \"content\": [\n",
    "            {\n",
    "            \"type\": \"text\",\n",
    "            \"text\": query.get('text')\n",
    "            },\n",
    "            {\n",
    "            \"type\": \"image_url\",\n",
    "            \"image_url\": {\n",
    "                \"url\": \"https://images.vivino.com/thumbs/Z90I3--JRKWlpMA8wdLY-Q_pb_x600.png\"\n",
    "            }\n",
    "        }\n",
    "        ]\n",
    "        }\n",
    "    ],\n",
    "    response_format={\n",
    "        \"type\": \"text\"\n",
    "    },\n",
    "    temperature=1,\n",
    "    max_completion_tokens=2048,\n",
    "    top_p=1,\n",
    "    frequency_penalty=0,\n",
    "    presence_penalty=0\n",
    "    )\n",
    "    \n",
    "    return ''.join([choice.message.content for choice in response.choices])"
   ]
  },
  {
   "cell_type": "code",
   "execution_count": 12,
   "id": "d1d98449",
   "metadata": {},
   "outputs": [
    {
     "data": {
      "text/plain": [
       "'Masserì Primitivo는 깊고 풍부한 과일 향과 부드러운 탄닌을 가진 와인입니다. 이 와인에 어울리는 요리는 다음과 같습니다:\\n\\n1. **고기 요리**: 구운 양고기, 소고기 스테이크, 이탈리안 소시지와 잘 어울립니다.\\n2. **파스타**: 고기 소스가 포함된 파스타, 특히 볼로네제 소스와 잘 매칭됩니다.\\n3. **피자**: 특히 토마토 소스와 치즈가 가득한 이탈리안 피자와 좋은 조화를 이룹니다.\\n4. **치즈**: 숙성된 치즈, 특히 체다나 페코리노 같은 강한 맛의 치즈와 함께 하면 좋습니다.\\n5. **바비큐 요리**: 훈제 또는 바비큐 돼지고기와도 아주 잘 어울립니다.\\n\\n이 와인의 풍부한 맛이 다양한 요리와 잘 맞아들어, 각 요리의 맛을 강조해 줄 것입니다.'"
      ]
     },
     "execution_count": 12,
     "metadata": {},
     "output_type": "execute_result"
    }
   ],
   "source": [
    "query = {'text': '이 와인에 어울리는 요리에는 어떤 것들이 있을까요?', \n",
    "         'image_url': 'https://images.vivino.com/thumbs/Z90I3--JRKWlpMA8wdLY-Q_pb_x600.png'}\n",
    "response = recommend_dishes(query)\n",
    "response"
   ]
  },
  {
   "cell_type": "code",
   "execution_count": null,
   "id": "4af902fe",
   "metadata": {},
   "outputs": [],
   "source": []
  },
  {
   "cell_type": "code",
   "execution_count": null,
   "id": "548be221",
   "metadata": {},
   "outputs": [],
   "source": []
  },
  {
   "cell_type": "code",
   "execution_count": null,
   "id": "1c589a3c",
   "metadata": {},
   "outputs": [],
   "source": []
  },
  {
   "cell_type": "code",
   "execution_count": null,
   "id": "be6d9998",
   "metadata": {},
   "outputs": [],
   "source": []
  },
  {
   "cell_type": "code",
   "execution_count": null,
   "id": "e9b693c4",
   "metadata": {},
   "outputs": [],
   "source": []
  }
 ],
 "metadata": {
  "kernelspec": {
   "display_name": "prompting_env",
   "language": "python",
   "name": "python3"
  },
  "language_info": {
   "codemirror_mode": {
    "name": "ipython",
    "version": 3
   },
   "file_extension": ".py",
   "mimetype": "text/x-python",
   "name": "python",
   "nbconvert_exporter": "python",
   "pygments_lexer": "ipython3",
   "version": "3.12.11"
  }
 },
 "nbformat": 4,
 "nbformat_minor": 5
}
