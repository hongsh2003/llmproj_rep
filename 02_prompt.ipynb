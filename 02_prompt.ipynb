{
 "cells": [
  {
   "cell_type": "code",
   "execution_count": 1,
   "id": "c82da831",
   "metadata": {},
   "outputs": [
    {
     "name": "stdout",
     "output_type": "stream",
     "text": [
      "API Key configured: True\n"
     ]
    }
   ],
   "source": [
    "from dotenv import load_dotenv\n",
    "import os\n",
    "load_dotenv()\n",
    "open_api_key = os.getenv('OPENAI_API_KEY')\n",
    "print(\"API Key configured:\", \"OPENAI_API_KEY\" in os.environ)\n",
    "from openai import OpenAI\n",
    "client = OpenAI()"
   ]
  },
  {
   "cell_type": "code",
   "execution_count": 3,
   "id": "b194978a",
   "metadata": {},
   "outputs": [],
   "source": [
    "response = client.chat.completions.create(\n",
    "    model = 'gpt-4o-mini', #omni model\n",
    "    messages = [\n",
    "        {'role': 'user', 'content': '파이썬에 대해 알려줘'}\n",
    "    ]\n",
    ")"
   ]
  },
  {
   "cell_type": "code",
   "execution_count": 4,
   "id": "8cfd3714",
   "metadata": {},
   "outputs": [
    {
     "data": {
      "text/plain": [
       "'파이썬(Python)은 1991년에 귀도 반 로썸(Guido van Rossum)에 의해 개발된 고급 프로그래밍 언어입니다. 파이썬은 코드가 간결하고 읽기 쉬워 다양한 분야에서 널리 사용되고 있습니다. 다음은 파이썬의 주요 특징 및 사용 용도에 대한 설명입니다.\\n\\n### 주요 특징\\n\\n1. **간결하고 명확한 문법**: 파이썬은 코드가 직관적이며 읽기 쉬워 초보자에게 적합합니다.\\n\\n2. **다양한 패키지와 라이브러리**: 데이터 분석(예: pandas, NumPy), 웹 개발(예: Flask, Django), 기계 학습(예: TensorFlow, scikit-learn) 등 다양한 분야에 사용할 수 있는 풍부한 라이브러리가 있습니다.\\n\\n3. **크로스 플랫폼**: 파이썬은 윈도우, macOS, 리눅스 등 다양한 운영 체제에서 실행될 수 있습니다.\\n\\n4. **동적 타이핑**: 변수의 타입을 선언할 필요가 없으며 실행 시 점검됩니다.\\n\\n5. **객체 지향 프로그래밍**: 파이썬은 객체 지향 프로그래밍(OOP)을 지원하여 코드 재사용성과 유지 보수성을 높여줍니다.\\n\\n6. **해석형 언어**: 파이썬은 소스 코드를 직접 실행하는 해석형 언어입니다. 이 덕분에 빠른 개발과 디버깅이 가능합니다.\\n\\n### 사용 용도\\n\\n1. **웹 개발**: Django, Flask와 같은 프레임워크를 사용하여 웹 애플리케이션을 개발할 수 있습니다.\\n\\n2. **데이터 분석 및 시각화**: Pandas, Matplotlib, Seaborn 등과 같은 라이브러리를 통해 데이터를 분석하고 시각화할 수 있습니다.\\n\\n3. **인공지능 및 머신러닝**: TensorFlow, PyTorch, scikit-learn 같은 라이브러리를 사용해 머신러닝 및 딥러닝 모델을 개발할 수 있습니다.\\n\\n4. **자동화 스크립트**: 반복적인 작업을 자동화하는 스크립트를 작성하는 데 유용합니다.\\n\\n5. **게임 개발**: Pygame과 같은 라이브러리를 사용하여 간단한 게임을 만들 수 있습니다.\\n\\n6. **과학 컴퓨팅**: SciPy와 같은 라이브러리를 통해 복잡한 수치 계산 및 분석을 수행할 수 있습니다.\\n\\n파이썬은 그 유연성과 사용의 용이성 덕분에 초보자와 전문가 모두에게 인기 있는 언어입니다.'"
      ]
     },
     "execution_count": 4,
     "metadata": {},
     "output_type": "execute_result"
    }
   ],
   "source": [
    "response.choices[0].message.content"
   ]
  },
  {
   "cell_type": "code",
   "execution_count": 5,
   "id": "da96bc16",
   "metadata": {},
   "outputs": [
    {
     "name": "stdout",
     "output_type": "stream",
     "text": [
      "ChatGPT 답변: 방탄소년단(BTS)은 2013년 데뷔한 대한민국의 7인조 남성 아이돌 그룹입니다. 멤버는 RM(랩몬스터), Jin, Suga, J-Hope, Jimin, V, Jungkook로 구성되어 있습니다. 그들은 하이브(구 빅히트 엔터테인먼트) 소속으로 활동하고 있습니다.\n",
      "\n",
      "BTS는 그들의 음악, 파워풀한 퍼포먼스, 그리고 사회적 메시지를 담은 가사로 전 세계적으로 큰 인기를 얻었습니다. 다양한 장르를 시도하며, 특히 힙합, R&B, 팝을 결합한 스타일로 많은 사랑을 받고 있습니다. 그들의 노래는 사랑, 성장, 아픔, 자아 탐색 등의 주제를 다루고 있으며, 젊은 세대에게 큰 영향을 미치고 있습니다.\n",
      "\n",
      "BTS는 여러 기록을 세우며 K-pop의 글로벌화를 이끄는 데 큰 역할을 했습니다. 빌보드 차트에서 여러 곡이 1위를 기록하고, 다양한 시상식에서 수많은 상을 수상하였습니다. 팬들과의 소통을 중요시하며, 팬덤 'ARMY'와의 관계도 독특하게 발전시켜왔습니다. \n",
      "\n",
      "2020년대에 들어서도 그들은 새로운 음악과 활동으로 많은 기대를 모으고 있으며, 전 세계 투어와 팬미팅 등을 통해 팬들과의 연결을 지속하고 있습니다.\n"
     ]
    }
   ],
   "source": [
    "message = {'role': 'user', 'content': '방탄소년단에 대해 알려줘'}\n",
    "response = client.chat.completions.create(\n",
    "    model = 'gpt-4o-mini', #omni model\n",
    "    messages = [message]\n",
    ")\n",
    "\n",
    "assistant_reply = response.choices[0].message.content\n",
    "print('ChatGPT 답변:', assistant_reply)"
   ]
  },
  {
   "cell_type": "markdown",
   "id": "1c4eb6f1",
   "metadata": {},
   "source": [
    "# 출력 형식 지정"
   ]
  },
  {
   "cell_type": "code",
   "execution_count": 7,
   "id": "30998aec",
   "metadata": {},
   "outputs": [
    {
     "name": "stdout",
     "output_type": "stream",
     "text": [
      "ChatGPT 답변: {\"member\": [\"RM\", \"진\", \"슈가\", \"제이홉\", \"지민\", \"뷔\", \"정국\"], \"accomplishment\": [\"Billboard Hot 100 1위\", \"그래미 어워드 후보\", \"전세계 앨범 판매 3000만 장 이상\", \"유엔 연설\", \"다양한 자선활동 및 사회적 이슈에 대한 메시지 전달\"]}\n"
     ]
    }
   ],
   "source": [
    "message = {'role': 'user', 'content': '방탄소년단 정보를 json 형태로 제공해. 키는 member, accomplishment으로 설정해'}\n",
    "response = client.chat.completions.create(\n",
    "    model = 'gpt-4o-mini', #omni model\n",
    "    messages = [message], \n",
    "    response_format={'type': 'json_object'}\n",
    ")\n",
    "\n",
    "assistant_reply = response.choices[0].message.content\n",
    "print('ChatGPT 답변:', assistant_reply)"
   ]
  },
  {
   "cell_type": "code",
   "execution_count": 9,
   "id": "8ffe9aa8",
   "metadata": {},
   "outputs": [
    {
     "data": {
      "text/plain": [
       "dict_keys(['member', 'accomplishment'])"
      ]
     },
     "execution_count": 9,
     "metadata": {},
     "output_type": "execute_result"
    }
   ],
   "source": [
    "import json\n",
    "data = json.loads(assistant_reply)\n",
    "data.keys()"
   ]
  },
  {
   "cell_type": "code",
   "execution_count": null,
   "id": "29d6077e",
   "metadata": {},
   "outputs": [
    {
     "name": "stdout",
     "output_type": "stream",
     "text": [
      "ChatGPT 답변: {\"weather and temperature\": \"서울은 맑고 기온은 20도입니다, 부산은 흐리고 기온은 22도입니다, 대구는 맑고 기온은 23도입니다, 인천은 비가 오고 기온은 19도입니다, 광주도 맑고 기온은 21도입니다, 대전은 흐리고 기온은 20도입니다, 울산은 맑고 기온은 22도입니다, 수원은 흐리고 기온은 18도입니다, 성남은 구름 많고 기온은 19도입니다, 청주는 맑고 기온은 21도입니다.\"}\n"
     ]
    }
   ],
   "source": [
    "# 서울, 부산, + ... 날씨 정보 받아서 json으로 추출\n",
    "# 도시명의 날씨는 현재 ...이고, 온도는 ... 입니다\n",
    "message = {'role' : 'user', 'content' : '대한민국 모든 도시의 날씨와 온도를 한줄로 ~이고, ~입니다 말투로 알려줘. json형태로 제공해. key는 weather and temperature'}\n",
    "response = client.chat.completions.create(\n",
    "    model = 'gpt-4o-mini', #omni model\n",
    "    messages = [message], \n",
    "    response_format={'type': 'json_object'}\n",
    ")\n",
    "\n",
    "assistant_reply = response.choices[0].message.content\n",
    "print('ChatGPT 답변:', assistant_reply)"
   ]
  },
  {
   "cell_type": "markdown",
   "id": "2da8b609",
   "metadata": {},
   "source": [
    "# CoT 프롬프트"
   ]
  },
  {
   "cell_type": "code",
   "execution_count": 25,
   "id": "5a20bfca",
   "metadata": {},
   "outputs": [
    {
     "name": "stdout",
     "output_type": "stream",
     "text": [
      "CoT 적용전: 철수가 처음에 가지고 있던 사과는 10개입니다. 그 중 3개를 먹었으므로 남은 사과는 10 - 3 = 7개입니다. 이후 5개를 더 구입했으므로 현재 가지고 있는 사과는 7 + 5 = 12개입니다. \n",
      "\n",
      "따라서 철수가 현재 가지고 있는 사과는 12개입니다.\n"
     ]
    }
   ],
   "source": [
    "question = '철수는 사과 10개를 가지고 있었는데, 그 중 3개를 먹은 후 5개를 더 구입했습니다. 철수가 현재 가지고 있는 사과는 몇 개일까요?'\n",
    "response = client.chat.completions.create(\n",
    "    messages = [{'role': 'user', 'content': question}],\n",
    "    model = 'gpt-4o-mini',\n",
    "    temperature = 0\n",
    ")\n",
    "print('CoT 적용전:', response.choices[0].message.content)"
   ]
  },
  {
   "cell_type": "code",
   "execution_count": 26,
   "id": "51b8f36f",
   "metadata": {},
   "outputs": [
    {
     "name": "stdout",
     "output_type": "stream",
     "text": [
      "CoT 적용후: 단계별로 생각해보겠습니다.\n",
      "\n",
      "1. 철수는 처음에 사과 10개를 가지고 있었습니다.\n",
      "2. 그 중 3개를 먹었습니다. \n",
      "   - 10개 - 3개 = 7개\n",
      "3. 이후 5개를 더 구입했습니다.\n",
      "   - 7개 + 5개 = 12개\n",
      "\n",
      "따라서, 철수가 현재 가지고 있는 사과는 12개입니다.\n"
     ]
    }
   ],
   "source": [
    "cot_prompt = '(생각을 단계별로 진행해)\\n' + question\n",
    "response = client.chat.completions.create(\n",
    "    messages = [{'role': 'user', 'content': cot_prompt}],\n",
    "    model = 'gpt-4o-mini',\n",
    "    temperature = 0\n",
    ")\n",
    "print('CoT 적용후:', response.choices[0].message.content)"
   ]
  },
  {
   "cell_type": "markdown",
   "id": "87338e17",
   "metadata": {},
   "source": [
    "# Self consistency 기법"
   ]
  },
  {
   "cell_type": "code",
   "execution_count": 27,
   "id": "bc33c587",
   "metadata": {},
   "outputs": [
    {
     "name": "stdout",
     "output_type": "stream",
     "text": [
      "CoT 적용후: 주어진 문제를 단계별로 풀어보겠습니다.\n",
      "\n",
      "1. **문제 이해하기**: 어떤 수를 \\( x \\)라고 할 때, 이 수를 3배한 후 4를 더하면 19가 된다는 것입니다. 이를 수식으로 표현하면 다음과 같습니다.\n",
      "   \\[\n",
      "   3x + 4 = 19\n",
      "   \\]\n",
      "\n",
      "2. **방정식 정리하기**: 이제 이 방정식을 풀어보겠습니다. 먼저 양쪽에서 4를 빼줍니다.\n",
      "   \\[\n",
      "   3x + 4 - 4 = 19 - 4\n",
      "   \\]\n",
      "   \\[\n",
      "   3x = 15\n",
      "   \\]\n",
      "\n",
      "3. **x 구하기**: 이제 양쪽을 3으로 나누어 \\( x \\)를 구합니다.\n",
      "   \\[\n",
      "   x = \\frac{15}{3}\n",
      "   \\]\n",
      "   \\[\n",
      "   x = 5\n",
      "   \\]\n",
      "\n",
      "4. **정답 확인하기**: 구한 \\( x \\)의 값을 원래 문제에 대입하여 확인해보겠습니다.\n",
      "   \\[\n",
      "   3 \\times 5 + 4 = 15 + 4 = 19\n",
      "   \\]\n",
      "   맞습니다. \n",
      "\n",
      "따라서, 그 수는 **5**입니다.\n"
     ]
    }
   ],
   "source": [
    "question = '어떤 수를 3배한 경과에 4를 더하면 19가 됩니다. 그 수는 무엇일까요? 단계별로 풀어보세요.'\n",
    "response = client.chat.completions.create(\n",
    "    messages = [{'role': 'user', 'content': question}],\n",
    "    model = 'gpt-4o-mini',\n",
    "    temperature = 0\n",
    ")\n",
    "print('CoT 적용후:', response.choices[0].message.content)"
   ]
  },
  {
   "cell_type": "code",
   "execution_count": 29,
   "id": "754ece7a",
   "metadata": {},
   "outputs": [
    {
     "name": "stdout",
     "output_type": "stream",
     "text": [
      "응답 1: 주어진 문제를 해결하기 위해 단계를 차례대로 진행하겠습니다.\n",
      "\n",
      "1. **문제를 방정식으로 표현하기**:\n",
      "   어떤 수를 \\( x \\)라고 합시다. 문제에서 \"어떤 수를 3배한 경과에 4를 더하면 19가 된다\"라는 조건을 그대로 방정식으로 표현하면 다음과 같습니다:\n",
      "   \\[\n",
      "   3x + 4 = 19\n",
      "   \\]\n",
      "\n",
      "2. **방정식의 양 변에서 4를 빼기**:\n",
      "   방정식에서 4를 없애기 위해 양 변에서 4를 빼줍니다:\n",
      "   \\[\n",
      "   3x + 4 - 4 = 19 - 4\n",
      "   \\]\n",
      "   이 과정을 통해 방정식은 다음과 같이 단순화됩니다:\n",
      "   \\[\n",
      "   3x = 15\n",
      "   \\]\n",
      "\n",
      "3. **양 변을 3으로 나누기**:\n",
      "   이제 양 변을 3으로 나누어서 \\( x \\)를 구합니다:\n",
      "   \\[\n",
      "   x = \\frac{15}{3}\n",
      "   \\]\n",
      "   따라서,\n",
      "   \\[\n",
      "   x = 5\n",
      "   \\]\n",
      "\n",
      "4. **정답 확인하기**:\n",
      "   마지막으로, 구한 \\( x \\) 값이 맞는지 확인하기 위해 원래의 조건에 대입해보겠습니다. \\( x = 5 \\)를 다시 방정식에 대입해 보면:\n",
      "   \\[\n",
      "   3(5) + 4 = 15 + 4 = 19\n",
      "   \\]\n",
      "   이 결과는 문제의 조건과 일치합니다.\n",
      "\n",
      "결론적으로, 그 수는 **5**입니다.\n",
      "응답 2: 문제를 단계별로 해결해 보겠습니다.\n",
      "\n",
      "1. **문제 이해하기**: \"어떤 수를 3배한 경과에 4를 더하면 19가 됩니다.\" 이 문장을 수식으로 표현하면, 우리가 찾고자 하는 수를 \\( x \\)라고 할 때, 다음과 같이 쓸 수 있습니다.\n",
      "\n",
      "   \\[\n",
      "   3x + 4 = 19\n",
      "   \\]\n",
      "\n",
      "2. **방정식 풀기**: 이 방정식을 풀기 위해 먼저 4를 양변에서 빼줍니다.\n",
      "\n",
      "   \\[\n",
      "   3x + 4 - 4 = 19 - 4\n",
      "   \\]\n",
      "\n",
      "   이 과정을 통해 다음과 같은 식을 얻습니다:\n",
      "\n",
      "   \\[\n",
      "   3x = 15\n",
      "   \\]\n",
      "\n",
      "3. **x의 값 찾기**: 이제 \\( x \\)를 구하기 위해 양변을 3으로 나눕니다.\n",
      "\n",
      "   \\[\n",
      "   x = \\frac{15}{3}\n",
      "   \\]\n",
      "\n",
      "   계산하면:\n",
      "\n",
      "   \\[\n",
      "   x = 5\n",
      "   \\]\n",
      "\n",
      "4. **결과 확인**: 구한 \\( x \\)의 값을 원래 문제에 대입하여 확인해 봅시다.\n",
      "\n",
      "   \\[\n",
      "   3 \\times 5 + 4 = 15 + 4 = 19\n",
      "   \\]\n",
      "\n",
      "   맞습니다! 원래 조건과 일치합니다.\n",
      "\n",
      "따라서, 찾고자 하는 수는 **5**입니다.\n",
      "응답 3: 주어진 문제를 단계별로 해결해 보겠습니다.\n",
      "\n",
      "문제는 \"어떤 수를 3배한 경과에 4를 더하면 19가 된다\"입니다. 이 문제를 수학식으로 나타내면 다음과 같습니다.\n",
      "\n",
      "1. **미지수 설정**: 우리가 알고자 하는 수를 \\( x \\)라고 하겠습니다.\n",
      "\n",
      "2. **식 세우기**: 문제의 조건에 따라 수식으로 표현하면,\n",
      "   \\[\n",
      "   3x + 4 = 19\n",
      "   \\]\n",
      "\n",
      "3. **식 변형**: 이제 이 식을 풀어보겠습니다. 먼저 양쪽에서 4를 빼줍니다.\n",
      "   \\[\n",
      "   3x + 4 - 4 = 19 - 4\n",
      "   \\]\n",
      "   이러면 다음과 같은 식이 됩니다:\n",
      "   \\[\n",
      "   3x = 15\n",
      "   \\]\n",
      "\n",
      "4. **미지수 \\( x \\)의 값 구하기**: 다음으로 양쪽을 3으로 나누어 줍니다.\n",
      "   \\[\n",
      "   x = \\frac{15}{3}\n",
      "   \\]\n",
      "   그러면,\n",
      "   \\[\n",
      "   x = 5\n",
      "   \\]\n",
      "\n",
      "따라서, 문제에서 찾고 있는 수는 **5**입니다.\n",
      "\n",
      "5. **확인**: 마지막으로 구한 값을 이용해 원래 조건을 확인해봅시다.\n",
      "   \\[\n",
      "   3 \\times 5 + 4 = 15 + 4 = 19\n",
      "   \\]\n",
      "   조건이 맞으므로, 답이 올바릅니다.\n",
      "\n",
      "결론적으로, 그 수는 **5**입니다.\n",
      "응답 4: 어떤 수를 \\( x \\)라고 하면, 문제에서 주어진 조건에 따라 다음과 같은 식을 세울 수 있습니다.\n",
      "\n",
      "1. \"어떤 수를 3배한 경과\"는 \\( 3x \\)입니다.\n",
      "2. 여기에 4를 더하면 \\( 3x + 4 \\)가 됩니다.\n",
      "3. 이것이 19와 같다는 조건이 있으므로, 우리는 다음의 방정식을 세울 수 있습니다:\n",
      "\n",
      "\\[\n",
      "3x + 4 = 19\n",
      "\\]\n",
      "\n",
      "이제 이 방정식을 단계별로 풀어보겠습니다.\n",
      "\n",
      "**1단계:** 양변에서 4를 뺍니다.\n",
      "\n",
      "\\[\n",
      "3x + 4 - 4 = 19 - 4\n",
      "\\]\n",
      "\\[\n",
      "3x = 15\n",
      "\\]\n",
      "\n",
      "**2단계:** 양변을 3으로 나눕니다.\n",
      "\n",
      "\\[\n",
      "\\frac{3x}{3} = \\frac{15}{3}\n",
      "\\]\n",
      "\\[\n",
      "x = 5\n",
      "\\]\n",
      "\n",
      "따라서, 구하고자 하는 수는 \\( 5 \\)입니다. \n",
      "\n",
      "**정답:** 5\n",
      "응답 5: 어떤 수를 \\( x \\)라고 하겠습니다. 주어진 조건에 따르면, 그 수를 3배한 뒤 4를 더하면 19가 됩니다. 이를 식으로 표현하면 다음과 같습니다.\n",
      "\n",
      "\\[\n",
      "3x + 4 = 19\n",
      "\\]\n",
      "\n",
      "이제 이 식을 단계별로 풀어보겠습니다.\n",
      "\n",
      "1. **양변에서 4를 뺍니다.**\n",
      "   \\[\n",
      "   3x + 4 - 4 = 19 - 4\n",
      "   \\]\n",
      "   \\[\n",
      "   3x = 15\n",
      "   \\]\n",
      "\n",
      "2. **양변을 3으로 나눕니다.**\n",
      "   \\[\n",
      "   \\frac{3x}{3} = \\frac{15}{3}\n",
      "   \\]\n",
      "   \\[\n",
      "   x = 5\n",
      "   \\]\n",
      "\n",
      "따라서, 그 수는 **5**입니다. \n",
      "\n",
      "검산해보겠습니다. 5를 3배하고 4를 더하면:\n",
      "\\[\n",
      "3 \\times 5 + 4 = 15 + 4 = 19\n",
      "\\]\n",
      "조건이 만족하므로, 답이 맞습니다.\n"
     ]
    }
   ],
   "source": [
    "question = '어떤 수를 3배한 경과에 4를 더하면 19가 됩니다. 그 수는 무엇일까요? 단계별로 풀어보세요.'\n",
    "message = [{'role': 'user', 'content': question}]\n",
    "answers =[]\n",
    "\n",
    "for i in range(5):\n",
    "    response = client.chat.completions.create(\n",
    "        messages = message,\n",
    "        model = 'gpt-4o-mini',\n",
    "        temperature = 1.0\n",
    "    )\n",
    "    \n",
    "    answer = response.choices[0].message.content.strip()\n",
    "    answers.append(answer)\n",
    "    print(f'응답 {i+1}: {answer}')"
   ]
  },
  {
   "cell_type": "code",
   "execution_count": 33,
   "id": "7b27c5f4",
   "metadata": {},
   "outputs": [
    {
     "name": "stdout",
     "output_type": "stream",
     "text": [
      "최종 답: **5**입니다.\n"
     ]
    }
   ],
   "source": [
    "final_answer = [ans.split()[-1] for ans in answers]\n",
    "\n",
    "import collections\n",
    "counter = collections.Counter(final_answer)\n",
    "final_ans = counter.most_common(1)[0][0]\n",
    "print(f'최종 답: {final_ans}')"
   ]
  },
  {
   "cell_type": "markdown",
   "id": "75722d6b",
   "metadata": {},
   "source": [
    "# Reflection (자기 피드백 반복 프롬프트 설계)"
   ]
  },
  {
   "cell_type": "code",
   "execution_count": 34,
   "id": "1b6a5caa",
   "metadata": {},
   "outputs": [
    {
     "name": "stdout",
     "output_type": "stream",
     "text": [
      "정답입니다\n"
     ]
    }
   ],
   "source": [
    "question = '7의 2승에 5를 곱한 값은 무엇인가?'\n",
    "response1 = client.chat.completions.create(\n",
    "    messages = [\n",
    "        {'role': 'user', 'content': question}\n",
    "    ],\n",
    "    model = 'gpt-4o-mini',\n",
    "    temperature = 0\n",
    ")\n",
    "\n",
    "answer = response1.choices[0].message.content.strip() # 모델이 출력한 응답\n",
    "\n",
    "correct_answer = 245 # 우리가 주는 피드백\n",
    "if str(correct_answer) in answer: # text\n",
    "    feedback = '정답입니다'\n",
    "    need_retry = False\n",
    "else:\n",
    "    feedback = '틀렸습니다. 힌트는 7의 제곱값을 정확히 구한 다음 곱하세요.'\n",
    "    need_retry = True\n",
    "    \n",
    "print(feedback)"
   ]
  },
  {
   "cell_type": "code",
   "execution_count": 40,
   "id": "04e608dc",
   "metadata": {},
   "outputs": [
    {
     "name": "stdout",
     "output_type": "stream",
     "text": [
      "정답입니다\n"
     ]
    }
   ],
   "source": [
    "question = '7의 2승에 5를 곱한 값은 무엇인가?'\n",
    "response1 = client.chat.completions.create(\n",
    "    messages = [\n",
    "        {'role': 'user', 'content': question}\n",
    "    ],\n",
    "    model = 'gpt-4-0613',\n",
    "    temperature = 0\n",
    ")\n",
    "\n",
    "answer = response1.choices[0].message.content.strip() # 모델이 출력한 응답\n",
    "\n",
    "correct_answer = 245 # 우리가 주는 피드백\n",
    "if str(correct_answer) in answer: # text\n",
    "    feedback = '정답입니다'\n",
    "    need_retry = False\n",
    "else:\n",
    "    feedback = '틀렸습니다. 힌트는 7의 제곱값을 정확히 구한 다음 곱하세요.'\n",
    "    need_retry = True\n",
    "    \n",
    "print(feedback)"
   ]
  },
  {
   "cell_type": "code",
   "execution_count": null,
   "id": "2daecfcd",
   "metadata": {},
   "outputs": [],
   "source": [
    "# 틀린 경우에는 2차 답변 생성\n",
    "if need_retry:\n",
    "    retry_prompt = f'이전 답변: {answer}, 피드백: {feedback} \\n 다시 답을 구하세요'\n",
    "    response2 = client.chat.completions.create(\n",
    "        messages = [\n",
    "            {'role': 'user', 'content': question}\n",
    "        ],\n",
    "        model = 'gpt-4-0613',\n",
    "        temperature = 0\n",
    "    )\n",
    "    \n",
    "    answer2 = response2.choices[0].message.content.strip() # 모델이 출력한 응답\n",
    "    print(answer2)\n",
    "    \n",
    "# 위에서 정답이 맞아서 아무것도 안나오는거"
   ]
  },
  {
   "cell_type": "code",
   "execution_count": 43,
   "id": "6bec78ac",
   "metadata": {},
   "outputs": [
    {
     "name": "stdout",
     "output_type": "stream",
     "text": [
      "1차 에세이:\n",
      " 기후 변화는 현대 사회가 직면한 가장 심각한 환경 문제 중 하나로, 지구의 평균 기온 상승, 해수면 상승, 극단적인 기상 현상 등의 형태로 나타나고 있다. 이러한 기후 변화의 주요 원인은 인간 활동에 의해 발생하는 온실가스의 배출이다. 특히, 화석 연료의 연소, 산업 활동, 농업 및 임업 등에서 발생하는 이산화탄소(CO2), 메탄(CH4), 아산화질소(N2O) 등의 온실가스가 대기 중에 축적되어 지구의 온도를 상승시키고 있다.\n",
      "\n",
      "기후 변화의 해결 방안은 여러 가지가 있지만, 가장 효과적인 방법은 온실가스 배출을 줄이는 것이다. 이를 위해서는 재생 가능 에너지의 사용을 확대해야 한다. 태양광, 풍력, 수력 등 청정 에너지원으로의 전환은 화석 연료 의존도를 줄이고, 지속 가능한 에너지 시스템을 구축하는 데 기여할 수 있다. 또한, 에너지 효율성을 높이는 기술 개발과 보급도 중요하다. 건물, 교통수단, 산업 공정에서 에너지를 절약하는 방법을 도입함으로써 온실가스 배출을 줄일 수 있다.\n",
      "\n",
      "또한, 개인과 지역 사회의 참여도 필수적이다. 일상생활에서의 작은 변화, 예를 들어 대중교통 이용, 재활용, 식물 기반 식단의 채택 등은 기후 변화 완화에 기여할 수 있다. 정부와 기업은 이러한 변화를 촉진하기 위해 정책을 수립하고, 지속 가능한 개발 목표를 설정해야 한다.\n",
      "\n",
      "마지막으로, 국제적인 협력이 필요하다. 기후 변화는 국경을 초월한 문제이므로, 각국이 협력하여 공동의 목표를 설정하고, 기술과 자원을 공유하는 것이 중요하다. 파리 협정과 같은 국제적 합의는 이러한 협력을 위한 중요한 첫걸음이다.\n",
      "\n",
      "결론적으로, 기후 변화는 인류의 생존과 미래에 중대한 영향을 미치는 문제로, 이를 해결하기 위해서는 온실가스 배출을 줄이고, 재생 가능 에너지를 확대하며, 개인과 사회의 참여를 유도하는 노력이 필요하다. 국제적인 협력을 통해 지속 가능한 미래를 만들어 나가는 것이 우리의 책임이다.\n"
     ]
    }
   ],
   "source": [
    "# 에세이 작성 1차 시도\n",
    "prompt = \"기후 변화의 원인과 해결 방안에 대해 간략한 에세이를 작성하시오.\"\n",
    "response_essay1 = client.chat.completions.create(\n",
    "    messages=[\n",
    "        {\"role\": \"user\", \"content\": prompt}\n",
    "    ],\n",
    "    model=\"gpt-4o-mini\",\n",
    "    temperature=0\n",
    ")\n",
    "essay1 = response_essay1.choices[0].message.content\n",
    "print(\"1차 에세이:\\n\", essay1)"
   ]
  },
  {
   "cell_type": "code",
   "execution_count": 44,
   "id": "2b38742f",
   "metadata": {},
   "outputs": [
    {
     "name": "stdout",
     "output_type": "stream",
     "text": [
      "2차 에세이:\n",
      " 기후 변화는 현대 사회가 직면한 가장 심각한 환경 문제 중 하나로, 이는 지구의 평균 기온 상승, 해수면 상승, 극단적인 기상 현상 등의 형태로 나타나고 있습니다. 이러한 변화는 인류의 생존과 미래에 중대한 영향을 미치며, 이를 해결하기 위한 노력이 시급히 요구됩니다. 기후 변화의 주요 원인은 인간 활동에 의해 발생하는 온실가스의 배출로, 특히 화석 연료의 연소, 산업 활동, 농업 및 임업 등에서 발생하는 이산화탄소(CO2), 메탄(CH4), 아산화질소(N2O) 등의 온실가스가 대기 중에 축적되어 지구의 온도를 상승시키고 있습니다. 예를 들어, 2020년 기준으로 전 세계 이산화탄소 배출량은 약 33억 톤에 달하며, 이는 산업화 이후 급격히 증가한 수치입니다.\n",
      "\n",
      "기후 변화의 해결 방안은 여러 가지가 있으며, 이를 통해 온실가스 배출을 줄이는 것이 가장 효과적인 방법입니다. 다음은 기후 변화 완화를 위한 10가지 이상의 구체적인 해결 방안입니다:\n",
      "\n",
      "1. **재생 가능 에너지 확대**: 태양광, 풍력, 수력 등 청정 에너지원으로의 전환을 통해 화석 연료 의존도를 줄입니다.\n",
      "\n",
      "2. **에너지 효율성 향상**: 건물, 교통수단, 산업 공정에서 에너지를 절약하는 기술을 개발하고 보급합니다.\n",
      "\n",
      "3. **전기차 및 대중교통 이용 촉진**: 전기차의 보급을 늘리고, 대중교통 시스템을 개선하여 개인 차량 사용을 줄입니다.\n",
      "\n",
      "4. **탄소 세제 도입**: 온실가스 배출에 대한 세금을 부과하여 기업과 개인이 배출을 줄이도록 유도합니다.\n",
      "\n",
      "5. **산림 보호 및 재조림**: 산림을 보호하고 새로운 나무를 심어 이산화탄소를 흡수하는 자연적인 방법을 활용합니다.\n",
      "\n",
      "6. **지속 가능한 농업 실천**: 화학 비료와 농약 사용을 줄이고, 유기농 및 지속 가능한 농업 방법을 채택합니다.\n",
      "\n",
      "7. **폐기물 관리 개선**: 재활용과 퇴비화를 통해 폐기물에서 발생하는 메탄가스를 줄입니다.\n",
      "\n",
      "8. **기후 교육 및 인식 제고**: 기후 변화에 대한 교육을 통해 개인과 지역 사회의 참여를 유도합니다.\n",
      "\n",
      "9. **기술 혁신 지원**: 탄소 포집 및 저장 기술(CCS)과 같은 혁신적인 기술 개발을 지원합니다.\n",
      "\n",
      "10. **국제 협력 강화**: 각국이 협력하여 공동의 목표를 설정하고, 기술과 자원을 공유하는 국제적 노력을 강화합니다.\n",
      "\n",
      "11. **지속 가능한 소비 촉진**: 소비자들이 지속 가능한 제품을 선택하도록 유도하는 캠페인을 진행합니다.\n",
      "\n",
      "12. **기후 변화 적응 전략 개발**: 기후 변화에 대한 적응 전략을 마련하여 피해를 최소화합니다.\n",
      "\n",
      "결론적으로, 기후 변화는 인류의 생존과 미래에 중대한 영향을 미치는 문제로, 이를 해결하기 위해서는 온실가스 배출을 줄이고, 재생 가능 에너지를 확대하며, 개인과 사회의 참여를 유도하는 노력이 필요합니다. 정부와 기업은 이러한 변화를 촉진하기 위해 정책을 수립하고, 지속 가능한 개발 목표를 설정해야 합니다. 국제적인 협력을 통해 지속 가능한 미래를 만들어 나가는 것이 우리의 책임입니다.\n"
     ]
    }
   ],
   "source": [
    "# 피드백 작성 (여기서는 사람이 수동으로 평가하여 문자열 작성한다고 가정)\n",
    "feedback = (\n",
    "    \"피드백:\\n\"\n",
    "    \" - 서론에서 주제 소개가 부족합니다.\\n\"\n",
    "    \" - 원인에 대한 설명이 모호하며 구체적 예시와 근거를 제시할 통계자료가 없습니다.\\n\"\n",
    "    \" - 해결 방안을 최소 10가지 이상 제시해주세요.\\n\"\n",
    "    \"위 사항을 반영하여 에세이를 수정해주세요.\"\n",
    ")\n",
    "# 개선 프롬프트 구성\n",
    "retry_prompt = essay1 + \"\\n\\n\" + feedback\n",
    "response_essay2 = client.chat.completions.create(\n",
    "    messages=[\n",
    "        {\"role\": \"user\", \"content\": retry_prompt}\n",
    "    ],\n",
    "    model=\"gpt-4o-mini\",\n",
    "    temperature=0\n",
    ")\n",
    "essay2 = response_essay2.choices[0].message.content\n",
    "print(\"2차 에세이:\\n\", essay2)"
   ]
  },
  {
   "cell_type": "code",
   "execution_count": null,
   "id": "fcb1fdde",
   "metadata": {},
   "outputs": [
    {
     "name": "stdout",
     "output_type": "stream",
     "text": [
      "3차 에세이:\n",
      " 기후 변화는 현대 사회가 직면한 가장 심각한 환경 문제 중 하나로, 지구의 평균 기온 상승, 해수면 상승, 극단적인 기상 현상 등의 형태로 나타나고 있다. 이러한 기후 변화의 주요 원인은 인간 활동에 의해 발생하는 온실가스의 배출이다. 특히, 화석 연료의 연소, 산업 활동, 농업 및 임업 등에서 발생하는 이산화탄소(CO2), 메탄(CH4), 아산화질소(N2O) 등의 온실가스가 대기 중에 축적되어 지구의 온도를 상승시키고 있다. 예를 들어, 2021년 기준으로 전 세계 온실가스 배출량의 약 76%가 이산화탄소에서 발생하며, 그 중 40% 이상이 화석 연료의 연소에서 기인하고 있다. 또한, 농업에서 발생하는 메탄은 전 세계 온실가스 배출량의 약 16%를 차지하고 있다.\n",
      "\n",
      "기후 변화의 해결 방안은 여러 가지가 있지만, 가장 효과적인 방법은 온실가스 배출을 줄이는 것이다. 이를 위해서는 재생 가능 에너지의 사용을 확대해야 한다. 태양광, 풍력, 수력 등 청정 에너지원으로의 전환은 화석 연료 의존도를 줄이고, 지속 가능한 에너지 시스템을 구축하는 데 기여할 수 있다. 예를 들어, 2020년에는 전 세계 전력의 약 29%가 재생 가능 에너지에서 생산되었으며, 이는 2010년 대비 두 배 이상 증가한 수치이다. 또한, 에너지 효율성을 높이는 기술 개발과 보급도 중요하다. 건물, 교통수단, 산업 공정에서 에너지를 절약하는 방법을 도입함으로써 온실가스 배출을 줄일 수 있다. 예를 들어, 에너지 효율적인 조명과 가전제품을 사용하면 가정에서의 전력 소비를 20% 이상 줄일 수 있다.\n",
      "\n",
      "또한, 개인과 지역 사회의 참여도 필수적이다. 일상생활에서의 작은 변화, 예를 들어 대중교통 이용, 재활용, 식물 기반 식단의 채택 등은 기후 변화 완화에 기여할 수 있다. 연구에 따르면, 채식 위주의 식단을 채택할 경우 개인의 탄소 발자국을 최대 50%까지 줄일 수 있다. 정부와 기업은 이러한 변화를 촉진하기 위해 정책을 수립하고, 지속 가능한 개발 목표를 설정해야 한다. 예를 들어, 여러 국가에서는 탄소세를 도입하여 온실가스 배출을 줄이기 위한 경제적 인센티브를 제공하고 있다.\n",
      "\n",
      "마지막으로, 국제적인 협력이 필요하다. 기후 변화는 국경을 초월한 문제이므로, 각국이 협력하여 공동의 목표를 설정하고, 기술과 자원을 공유하는 것이 중요하다. 파리 협정과 같은 국제적 합의는 이러한 협력을 위한 중요한 첫걸음이다. 이 협정에 따라 196개국은 지구 평균 기온 상승을 2도 이하로 제한하고, 1.5도 이하로 유지하기 위한 노력을 다짐하였다.\n",
      "\n",
      "결론적으로, 기후 변화는 인류의 생존과 미래에 중대한 영향을 미치는 문제로, 이를 해결하기 위해서는 온실가스 배출을 줄이고, 재생 가능 에너지를 확대하며, 개인과 사회의 참여를 유도하는 노력이 필요하다. 국제적인 협력을 통해 지속 가능한 미래를 만들어 나가는 것이 우리의 책임이다. 기후 변화에 대한 인식을 높이고, 실질적인 행동을 통해 지구를 보호하는 데 기여해야 할 때이다.\n"
     ]
    }
   ],
   "source": [
    "# 피드백 작성 (여기서는 사람이 수동으로 평가하여 문자열 작성한다고 가정)\n",
    "feedback_2 = (\n",
    "    \"피드백:\\n\"\n",
    "    \" - 관련 사실을 실증할만한 근거의 통계 자료가 없습니다.\\n\"\n",
    "    \" - 온실가스가 어디서 발생하는지에 대한 설명이 부족합니다.\\n\"\n",
    "    \" - 에세이를 문단 형식으로 작성하세요. \\n\"\n",
    "    \"위 사항을 반영하여 에세이를 수정해주세요.\"\n",
    ")\n",
    "# 개선 프롬프트 구성\n",
    "retry_prompt_2 = essay1 + \"\\n\\n\" + feedback_2\n",
    "response_essay3 = client.chat.completions.create(\n",
    "    messages=[\n",
    "        {\"role\": \"user\", \"content\": retry_prompt_2}\n",
    "    ],\n",
    "    model=\"gpt-4o-mini\",\n",
    "    temperature=0\n",
    ")\n",
    "essay3 = response_essay3.choices[0].message.content\n",
    "print(\"3차 에세이:\\n\", essay3)"
   ]
  }
 ],
 "metadata": {
  "kernelspec": {
   "display_name": "prompting_env",
   "language": "python",
   "name": "python3"
  },
  "language_info": {
   "codemirror_mode": {
    "name": "ipython",
    "version": 3
   },
   "file_extension": ".py",
   "mimetype": "text/x-python",
   "name": "python",
   "nbconvert_exporter": "python",
   "pygments_lexer": "ipython3",
   "version": "3.12.11"
  }
 },
 "nbformat": 4,
 "nbformat_minor": 5
}
